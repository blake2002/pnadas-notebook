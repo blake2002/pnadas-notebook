{
 "cells": [
  {
   "cell_type": "code",
   "execution_count": 1,
   "metadata": {
    "ExecuteTime": {
     "end_time": "2019-01-13T07:35:41.925365Z",
     "start_time": "2019-01-13T07:35:41.225217Z"
    }
   },
   "outputs": [],
   "source": [
    "import pandas as pd\n",
    "import numpy as np\n"
   ]
  },
  {
   "cell_type": "markdown",
   "metadata": {},
   "source": [
    "## pandas dataframe 赋值操作2"
   ]
  },
  {
   "cell_type": "code",
   "execution_count": 2,
   "metadata": {
    "ExecuteTime": {
     "end_time": "2019-01-13T07:36:24.006376Z",
     "start_time": "2019-01-13T07:36:23.951771Z"
    }
   },
   "outputs": [
    {
     "data": {
      "text/html": [
       "<div>\n",
       "<style scoped>\n",
       "    .dataframe tbody tr th:only-of-type {\n",
       "        vertical-align: middle;\n",
       "    }\n",
       "\n",
       "    .dataframe tbody tr th {\n",
       "        vertical-align: top;\n",
       "    }\n",
       "\n",
       "    .dataframe thead th {\n",
       "        text-align: right;\n",
       "    }\n",
       "</style>\n",
       "<table border=\"1\" class=\"dataframe\">\n",
       "  <thead>\n",
       "    <tr style=\"text-align: right;\">\n",
       "      <th></th>\n",
       "      <th>GENDER</th>\n",
       "      <th>RACE</th>\n",
       "      <th>DEPARTMENT</th>\n",
       "      <th>YEARS EXPERIENCE</th>\n",
       "      <th>SALARY</th>\n",
       "    </tr>\n",
       "  </thead>\n",
       "  <tbody>\n",
       "    <tr>\n",
       "      <th>Tom</th>\n",
       "      <td>Male</td>\n",
       "      <td>White</td>\n",
       "      <td>Engineering</td>\n",
       "      <td>23</td>\n",
       "      <td>107962</td>\n",
       "    </tr>\n",
       "    <tr>\n",
       "      <th>Niko</th>\n",
       "      <td>Male</td>\n",
       "      <td>Black</td>\n",
       "      <td>Engineering</td>\n",
       "      <td>1</td>\n",
       "      <td>30347</td>\n",
       "    </tr>\n",
       "    <tr>\n",
       "      <th>Penelope</th>\n",
       "      <td>Female</td>\n",
       "      <td>White</td>\n",
       "      <td>Engineering</td>\n",
       "      <td>12</td>\n",
       "      <td>60258</td>\n",
       "    </tr>\n",
       "    <tr>\n",
       "      <th>Aria</th>\n",
       "      <td>Female</td>\n",
       "      <td>Black</td>\n",
       "      <td>Engineering</td>\n",
       "      <td>8</td>\n",
       "      <td>43618</td>\n",
       "    </tr>\n",
       "    <tr>\n",
       "      <th>Sofia</th>\n",
       "      <td>Female</td>\n",
       "      <td>Black</td>\n",
       "      <td>Parks &amp; Recreation</td>\n",
       "      <td>23</td>\n",
       "      <td>26125</td>\n",
       "    </tr>\n",
       "    <tr>\n",
       "      <th>Dean</th>\n",
       "      <td>Male</td>\n",
       "      <td>Black</td>\n",
       "      <td>Parks &amp; Recreation</td>\n",
       "      <td>3</td>\n",
       "      <td>33592</td>\n",
       "    </tr>\n",
       "    <tr>\n",
       "      <th>Zach</th>\n",
       "      <td>Male</td>\n",
       "      <td>White</td>\n",
       "      <td>Parks &amp; Recreation</td>\n",
       "      <td>4</td>\n",
       "      <td>37565</td>\n",
       "    </tr>\n",
       "  </tbody>\n",
       "</table>\n",
       "</div>"
      ],
      "text/plain": [
       "          GENDER   RACE          DEPARTMENT  YEARS EXPERIENCE  SALARY\n",
       "Tom         Male  White         Engineering                23  107962\n",
       "Niko        Male  Black         Engineering                 1   30347\n",
       "Penelope  Female  White         Engineering                12   60258\n",
       "Aria      Female  Black         Engineering                 8   43618\n",
       "Sofia     Female  Black  Parks & Recreation                23   26125\n",
       "Dean        Male  Black  Parks & Recreation                 3   33592\n",
       "Zach        Male  White  Parks & Recreation                 4   37565"
      ]
     },
     "execution_count": 2,
     "metadata": {},
     "output_type": "execute_result"
    }
   ],
   "source": [
    "df = pd.read_csv('data/employee_sample.csv',index_col=0)\n",
    "df"
   ]
  },
  {
   "cell_type": "code",
   "execution_count": 3,
   "metadata": {
    "ExecuteTime": {
     "end_time": "2019-01-13T07:47:52.643083Z",
     "start_time": "2019-01-13T07:47:52.609265Z"
    }
   },
   "outputs": [
    {
     "data": {
      "text/html": [
       "<div>\n",
       "<style scoped>\n",
       "    .dataframe tbody tr th:only-of-type {\n",
       "        vertical-align: middle;\n",
       "    }\n",
       "\n",
       "    .dataframe tbody tr th {\n",
       "        vertical-align: top;\n",
       "    }\n",
       "\n",
       "    .dataframe thead th {\n",
       "        text-align: right;\n",
       "    }\n",
       "</style>\n",
       "<table border=\"1\" class=\"dataframe\">\n",
       "  <thead>\n",
       "    <tr style=\"text-align: right;\">\n",
       "      <th></th>\n",
       "      <th>GENDER</th>\n",
       "      <th>RACE</th>\n",
       "      <th>DEPARTMENT</th>\n",
       "      <th>YEARS EXPERIENCE</th>\n",
       "      <th>SALARY</th>\n",
       "      <th>BONUS RATE</th>\n",
       "    </tr>\n",
       "  </thead>\n",
       "  <tbody>\n",
       "    <tr>\n",
       "      <th>Tom</th>\n",
       "      <td>Male</td>\n",
       "      <td>White</td>\n",
       "      <td>Engineering</td>\n",
       "      <td>23</td>\n",
       "      <td>107962</td>\n",
       "      <td>0.20</td>\n",
       "    </tr>\n",
       "    <tr>\n",
       "      <th>Niko</th>\n",
       "      <td>Male</td>\n",
       "      <td>Black</td>\n",
       "      <td>Engineering</td>\n",
       "      <td>1</td>\n",
       "      <td>30347</td>\n",
       "      <td>0.10</td>\n",
       "    </tr>\n",
       "    <tr>\n",
       "      <th>Penelope</th>\n",
       "      <td>Female</td>\n",
       "      <td>White</td>\n",
       "      <td>Engineering</td>\n",
       "      <td>12</td>\n",
       "      <td>60258</td>\n",
       "      <td>0.13</td>\n",
       "    </tr>\n",
       "    <tr>\n",
       "      <th>Aria</th>\n",
       "      <td>Female</td>\n",
       "      <td>Black</td>\n",
       "      <td>Engineering</td>\n",
       "      <td>8</td>\n",
       "      <td>43618</td>\n",
       "      <td>0.15</td>\n",
       "    </tr>\n",
       "    <tr>\n",
       "      <th>Sofia</th>\n",
       "      <td>Female</td>\n",
       "      <td>Black</td>\n",
       "      <td>Parks &amp; Recreation</td>\n",
       "      <td>23</td>\n",
       "      <td>26125</td>\n",
       "      <td>0.12</td>\n",
       "    </tr>\n",
       "    <tr>\n",
       "      <th>Dean</th>\n",
       "      <td>Male</td>\n",
       "      <td>Black</td>\n",
       "      <td>Parks &amp; Recreation</td>\n",
       "      <td>3</td>\n",
       "      <td>33592</td>\n",
       "      <td>0.30</td>\n",
       "    </tr>\n",
       "    <tr>\n",
       "      <th>Zach</th>\n",
       "      <td>Male</td>\n",
       "      <td>White</td>\n",
       "      <td>Parks &amp; Recreation</td>\n",
       "      <td>4</td>\n",
       "      <td>37565</td>\n",
       "      <td>0.05</td>\n",
       "    </tr>\n",
       "  </tbody>\n",
       "</table>\n",
       "</div>"
      ],
      "text/plain": [
       "          GENDER   RACE          DEPARTMENT  YEARS EXPERIENCE  SALARY  \\\n",
       "Tom         Male  White         Engineering                23  107962   \n",
       "Niko        Male  Black         Engineering                 1   30347   \n",
       "Penelope  Female  White         Engineering                12   60258   \n",
       "Aria      Female  Black         Engineering                 8   43618   \n",
       "Sofia     Female  Black  Parks & Recreation                23   26125   \n",
       "Dean        Male  Black  Parks & Recreation                 3   33592   \n",
       "Zach        Male  White  Parks & Recreation                 4   37565   \n",
       "\n",
       "          BONUS RATE  \n",
       "Tom             0.20  \n",
       "Niko            0.10  \n",
       "Penelope        0.13  \n",
       "Aria            0.15  \n",
       "Sofia           0.12  \n",
       "Dean            0.30  \n",
       "Zach            0.05  "
      ]
     },
     "execution_count": 3,
     "metadata": {},
     "output_type": "execute_result"
    }
   ],
   "source": [
    "df['BONUS RATE'] = [.2, .1, .13, .15, .12, .3, .05]\n",
    "df"
   ]
  },
  {
   "cell_type": "markdown",
   "metadata": {},
   "source": [
    "  + 根据salary 与bonusrate 计算bonus并且增加bonus列"
   ]
  },
  {
   "cell_type": "code",
   "execution_count": 4,
   "metadata": {
    "ExecuteTime": {
     "end_time": "2019-01-13T07:53:54.980161Z",
     "start_time": "2019-01-13T07:53:54.914204Z"
    }
   },
   "outputs": [
    {
     "data": {
      "text/html": [
       "<div>\n",
       "<style scoped>\n",
       "    .dataframe tbody tr th:only-of-type {\n",
       "        vertical-align: middle;\n",
       "    }\n",
       "\n",
       "    .dataframe tbody tr th {\n",
       "        vertical-align: top;\n",
       "    }\n",
       "\n",
       "    .dataframe thead th {\n",
       "        text-align: right;\n",
       "    }\n",
       "</style>\n",
       "<table border=\"1\" class=\"dataframe\">\n",
       "  <thead>\n",
       "    <tr style=\"text-align: right;\">\n",
       "      <th></th>\n",
       "      <th>GENDER</th>\n",
       "      <th>RACE</th>\n",
       "      <th>DEPARTMENT</th>\n",
       "      <th>YEARS EXPERIENCE</th>\n",
       "      <th>SALARY</th>\n",
       "      <th>BONUS RATE</th>\n",
       "      <th>bonus</th>\n",
       "    </tr>\n",
       "  </thead>\n",
       "  <tbody>\n",
       "    <tr>\n",
       "      <th>Tom</th>\n",
       "      <td>Male</td>\n",
       "      <td>White</td>\n",
       "      <td>Engineering</td>\n",
       "      <td>23</td>\n",
       "      <td>107962</td>\n",
       "      <td>0.20</td>\n",
       "      <td>21592.40</td>\n",
       "    </tr>\n",
       "    <tr>\n",
       "      <th>Niko</th>\n",
       "      <td>Male</td>\n",
       "      <td>Black</td>\n",
       "      <td>Engineering</td>\n",
       "      <td>1</td>\n",
       "      <td>30347</td>\n",
       "      <td>0.10</td>\n",
       "      <td>3034.70</td>\n",
       "    </tr>\n",
       "    <tr>\n",
       "      <th>Penelope</th>\n",
       "      <td>Female</td>\n",
       "      <td>White</td>\n",
       "      <td>Engineering</td>\n",
       "      <td>12</td>\n",
       "      <td>60258</td>\n",
       "      <td>0.13</td>\n",
       "      <td>7833.54</td>\n",
       "    </tr>\n",
       "    <tr>\n",
       "      <th>Aria</th>\n",
       "      <td>Female</td>\n",
       "      <td>Black</td>\n",
       "      <td>Engineering</td>\n",
       "      <td>8</td>\n",
       "      <td>43618</td>\n",
       "      <td>0.15</td>\n",
       "      <td>6542.70</td>\n",
       "    </tr>\n",
       "    <tr>\n",
       "      <th>Sofia</th>\n",
       "      <td>Female</td>\n",
       "      <td>Black</td>\n",
       "      <td>Parks &amp; Recreation</td>\n",
       "      <td>23</td>\n",
       "      <td>26125</td>\n",
       "      <td>0.12</td>\n",
       "      <td>3135.00</td>\n",
       "    </tr>\n",
       "    <tr>\n",
       "      <th>Dean</th>\n",
       "      <td>Male</td>\n",
       "      <td>Black</td>\n",
       "      <td>Parks &amp; Recreation</td>\n",
       "      <td>3</td>\n",
       "      <td>33592</td>\n",
       "      <td>0.30</td>\n",
       "      <td>10077.60</td>\n",
       "    </tr>\n",
       "    <tr>\n",
       "      <th>Zach</th>\n",
       "      <td>Male</td>\n",
       "      <td>White</td>\n",
       "      <td>Parks &amp; Recreation</td>\n",
       "      <td>4</td>\n",
       "      <td>37565</td>\n",
       "      <td>0.05</td>\n",
       "      <td>1878.25</td>\n",
       "    </tr>\n",
       "  </tbody>\n",
       "</table>\n",
       "</div>"
      ],
      "text/plain": [
       "          GENDER   RACE          DEPARTMENT  YEARS EXPERIENCE  SALARY  \\\n",
       "Tom         Male  White         Engineering                23  107962   \n",
       "Niko        Male  Black         Engineering                 1   30347   \n",
       "Penelope  Female  White         Engineering                12   60258   \n",
       "Aria      Female  Black         Engineering                 8   43618   \n",
       "Sofia     Female  Black  Parks & Recreation                23   26125   \n",
       "Dean        Male  Black  Parks & Recreation                 3   33592   \n",
       "Zach        Male  White  Parks & Recreation                 4   37565   \n",
       "\n",
       "          BONUS RATE     bonus  \n",
       "Tom             0.20  21592.40  \n",
       "Niko            0.10   3034.70  \n",
       "Penelope        0.13   7833.54  \n",
       "Aria            0.15   6542.70  \n",
       "Sofia           0.12   3135.00  \n",
       "Dean            0.30  10077.60  \n",
       "Zach            0.05   1878.25  "
      ]
     },
     "execution_count": 4,
     "metadata": {},
     "output_type": "execute_result"
    }
   ],
   "source": [
    "df['bonus']=df['SALARY']*df['BONUS RATE']\n",
    "df"
   ]
  },
  {
   "cell_type": "markdown",
   "metadata": {},
   "source": [
    "+ 修改所有的bonus为10000\n",
    "   - 方式1："
   ]
  },
  {
   "cell_type": "code",
   "execution_count": 5,
   "metadata": {
    "ExecuteTime": {
     "end_time": "2019-01-13T07:58:42.072422Z",
     "start_time": "2019-01-13T07:58:42.061894Z"
    }
   },
   "outputs": [],
   "source": [
    "df['bonus']=10000"
   ]
  },
  {
   "cell_type": "code",
   "execution_count": 6,
   "metadata": {
    "ExecuteTime": {
     "end_time": "2019-01-13T07:58:43.724824Z",
     "start_time": "2019-01-13T07:58:43.645866Z"
    }
   },
   "outputs": [
    {
     "data": {
      "text/html": [
       "<div>\n",
       "<style scoped>\n",
       "    .dataframe tbody tr th:only-of-type {\n",
       "        vertical-align: middle;\n",
       "    }\n",
       "\n",
       "    .dataframe tbody tr th {\n",
       "        vertical-align: top;\n",
       "    }\n",
       "\n",
       "    .dataframe thead th {\n",
       "        text-align: right;\n",
       "    }\n",
       "</style>\n",
       "<table border=\"1\" class=\"dataframe\">\n",
       "  <thead>\n",
       "    <tr style=\"text-align: right;\">\n",
       "      <th></th>\n",
       "      <th>GENDER</th>\n",
       "      <th>RACE</th>\n",
       "      <th>DEPARTMENT</th>\n",
       "      <th>YEARS EXPERIENCE</th>\n",
       "      <th>SALARY</th>\n",
       "      <th>BONUS RATE</th>\n",
       "      <th>bonus</th>\n",
       "    </tr>\n",
       "  </thead>\n",
       "  <tbody>\n",
       "    <tr>\n",
       "      <th>Tom</th>\n",
       "      <td>Male</td>\n",
       "      <td>White</td>\n",
       "      <td>Engineering</td>\n",
       "      <td>23</td>\n",
       "      <td>107962</td>\n",
       "      <td>0.20</td>\n",
       "      <td>10000</td>\n",
       "    </tr>\n",
       "    <tr>\n",
       "      <th>Niko</th>\n",
       "      <td>Male</td>\n",
       "      <td>Black</td>\n",
       "      <td>Engineering</td>\n",
       "      <td>1</td>\n",
       "      <td>30347</td>\n",
       "      <td>0.10</td>\n",
       "      <td>10000</td>\n",
       "    </tr>\n",
       "    <tr>\n",
       "      <th>Penelope</th>\n",
       "      <td>Female</td>\n",
       "      <td>White</td>\n",
       "      <td>Engineering</td>\n",
       "      <td>12</td>\n",
       "      <td>60258</td>\n",
       "      <td>0.13</td>\n",
       "      <td>10000</td>\n",
       "    </tr>\n",
       "    <tr>\n",
       "      <th>Aria</th>\n",
       "      <td>Female</td>\n",
       "      <td>Black</td>\n",
       "      <td>Engineering</td>\n",
       "      <td>8</td>\n",
       "      <td>43618</td>\n",
       "      <td>0.15</td>\n",
       "      <td>10000</td>\n",
       "    </tr>\n",
       "    <tr>\n",
       "      <th>Sofia</th>\n",
       "      <td>Female</td>\n",
       "      <td>Black</td>\n",
       "      <td>Parks &amp; Recreation</td>\n",
       "      <td>23</td>\n",
       "      <td>26125</td>\n",
       "      <td>0.12</td>\n",
       "      <td>10000</td>\n",
       "    </tr>\n",
       "    <tr>\n",
       "      <th>Dean</th>\n",
       "      <td>Male</td>\n",
       "      <td>Black</td>\n",
       "      <td>Parks &amp; Recreation</td>\n",
       "      <td>3</td>\n",
       "      <td>33592</td>\n",
       "      <td>0.30</td>\n",
       "      <td>10000</td>\n",
       "    </tr>\n",
       "    <tr>\n",
       "      <th>Zach</th>\n",
       "      <td>Male</td>\n",
       "      <td>White</td>\n",
       "      <td>Parks &amp; Recreation</td>\n",
       "      <td>4</td>\n",
       "      <td>37565</td>\n",
       "      <td>0.05</td>\n",
       "      <td>10000</td>\n",
       "    </tr>\n",
       "  </tbody>\n",
       "</table>\n",
       "</div>"
      ],
      "text/plain": [
       "          GENDER   RACE          DEPARTMENT  YEARS EXPERIENCE  SALARY  \\\n",
       "Tom         Male  White         Engineering                23  107962   \n",
       "Niko        Male  Black         Engineering                 1   30347   \n",
       "Penelope  Female  White         Engineering                12   60258   \n",
       "Aria      Female  Black         Engineering                 8   43618   \n",
       "Sofia     Female  Black  Parks & Recreation                23   26125   \n",
       "Dean        Male  Black  Parks & Recreation                 3   33592   \n",
       "Zach        Male  White  Parks & Recreation                 4   37565   \n",
       "\n",
       "          BONUS RATE  bonus  \n",
       "Tom             0.20  10000  \n",
       "Niko            0.10  10000  \n",
       "Penelope        0.13  10000  \n",
       "Aria            0.15  10000  \n",
       "Sofia           0.12  10000  \n",
       "Dean            0.30  10000  \n",
       "Zach            0.05  10000  "
      ]
     },
     "execution_count": 6,
     "metadata": {},
     "output_type": "execute_result"
    }
   ],
   "source": [
    "df"
   ]
  },
  {
   "cell_type": "markdown",
   "metadata": {},
   "source": [
    "+ \n",
    "   - 方式2："
   ]
  },
  {
   "cell_type": "code",
   "execution_count": 7,
   "metadata": {
    "ExecuteTime": {
     "end_time": "2019-01-13T08:01:17.660531Z",
     "start_time": "2019-01-13T08:01:17.643613Z"
    }
   },
   "outputs": [],
   "source": [
    "df.loc[:,'bonus']=9999"
   ]
  },
  {
   "cell_type": "code",
   "execution_count": 8,
   "metadata": {
    "ExecuteTime": {
     "end_time": "2019-01-13T08:01:21.306634Z",
     "start_time": "2019-01-13T08:01:21.278433Z"
    }
   },
   "outputs": [
    {
     "data": {
      "text/html": [
       "<div>\n",
       "<style scoped>\n",
       "    .dataframe tbody tr th:only-of-type {\n",
       "        vertical-align: middle;\n",
       "    }\n",
       "\n",
       "    .dataframe tbody tr th {\n",
       "        vertical-align: top;\n",
       "    }\n",
       "\n",
       "    .dataframe thead th {\n",
       "        text-align: right;\n",
       "    }\n",
       "</style>\n",
       "<table border=\"1\" class=\"dataframe\">\n",
       "  <thead>\n",
       "    <tr style=\"text-align: right;\">\n",
       "      <th></th>\n",
       "      <th>GENDER</th>\n",
       "      <th>RACE</th>\n",
       "      <th>DEPARTMENT</th>\n",
       "      <th>YEARS EXPERIENCE</th>\n",
       "      <th>SALARY</th>\n",
       "      <th>BONUS RATE</th>\n",
       "      <th>bonus</th>\n",
       "    </tr>\n",
       "  </thead>\n",
       "  <tbody>\n",
       "    <tr>\n",
       "      <th>Tom</th>\n",
       "      <td>Male</td>\n",
       "      <td>White</td>\n",
       "      <td>Engineering</td>\n",
       "      <td>23</td>\n",
       "      <td>107962</td>\n",
       "      <td>0.20</td>\n",
       "      <td>9999</td>\n",
       "    </tr>\n",
       "    <tr>\n",
       "      <th>Niko</th>\n",
       "      <td>Male</td>\n",
       "      <td>Black</td>\n",
       "      <td>Engineering</td>\n",
       "      <td>1</td>\n",
       "      <td>30347</td>\n",
       "      <td>0.10</td>\n",
       "      <td>9999</td>\n",
       "    </tr>\n",
       "    <tr>\n",
       "      <th>Penelope</th>\n",
       "      <td>Female</td>\n",
       "      <td>White</td>\n",
       "      <td>Engineering</td>\n",
       "      <td>12</td>\n",
       "      <td>60258</td>\n",
       "      <td>0.13</td>\n",
       "      <td>9999</td>\n",
       "    </tr>\n",
       "    <tr>\n",
       "      <th>Aria</th>\n",
       "      <td>Female</td>\n",
       "      <td>Black</td>\n",
       "      <td>Engineering</td>\n",
       "      <td>8</td>\n",
       "      <td>43618</td>\n",
       "      <td>0.15</td>\n",
       "      <td>9999</td>\n",
       "    </tr>\n",
       "    <tr>\n",
       "      <th>Sofia</th>\n",
       "      <td>Female</td>\n",
       "      <td>Black</td>\n",
       "      <td>Parks &amp; Recreation</td>\n",
       "      <td>23</td>\n",
       "      <td>26125</td>\n",
       "      <td>0.12</td>\n",
       "      <td>9999</td>\n",
       "    </tr>\n",
       "    <tr>\n",
       "      <th>Dean</th>\n",
       "      <td>Male</td>\n",
       "      <td>Black</td>\n",
       "      <td>Parks &amp; Recreation</td>\n",
       "      <td>3</td>\n",
       "      <td>33592</td>\n",
       "      <td>0.30</td>\n",
       "      <td>9999</td>\n",
       "    </tr>\n",
       "    <tr>\n",
       "      <th>Zach</th>\n",
       "      <td>Male</td>\n",
       "      <td>White</td>\n",
       "      <td>Parks &amp; Recreation</td>\n",
       "      <td>4</td>\n",
       "      <td>37565</td>\n",
       "      <td>0.05</td>\n",
       "      <td>9999</td>\n",
       "    </tr>\n",
       "  </tbody>\n",
       "</table>\n",
       "</div>"
      ],
      "text/plain": [
       "          GENDER   RACE          DEPARTMENT  YEARS EXPERIENCE  SALARY  \\\n",
       "Tom         Male  White         Engineering                23  107962   \n",
       "Niko        Male  Black         Engineering                 1   30347   \n",
       "Penelope  Female  White         Engineering                12   60258   \n",
       "Aria      Female  Black         Engineering                 8   43618   \n",
       "Sofia     Female  Black  Parks & Recreation                23   26125   \n",
       "Dean        Male  Black  Parks & Recreation                 3   33592   \n",
       "Zach        Male  White  Parks & Recreation                 4   37565   \n",
       "\n",
       "          BONUS RATE  bonus  \n",
       "Tom             0.20   9999  \n",
       "Niko            0.10   9999  \n",
       "Penelope        0.13   9999  \n",
       "Aria            0.15   9999  \n",
       "Sofia           0.12   9999  \n",
       "Dean            0.30   9999  \n",
       "Zach            0.05   9999  "
      ]
     },
     "execution_count": 8,
     "metadata": {},
     "output_type": "execute_result"
    }
   ],
   "source": [
    "df"
   ]
  },
  {
   "cell_type": "markdown",
   "metadata": {},
   "source": [
    "+ 修改YEARS EXPERIENCE数据类型"
   ]
  },
  {
   "cell_type": "code",
   "execution_count": 11,
   "metadata": {
    "ExecuteTime": {
     "end_time": "2019-01-13T08:03:50.207536Z",
     "start_time": "2019-01-13T08:03:50.195391Z"
    }
   },
   "outputs": [
    {
     "data": {
      "text/plain": [
       "dtype('int64')"
      ]
     },
     "execution_count": 11,
     "metadata": {},
     "output_type": "execute_result"
    }
   ],
   "source": [
    "df['YEARS EXPERIENCE'].dtype"
   ]
  },
  {
   "cell_type": "code",
   "execution_count": 18,
   "metadata": {
    "ExecuteTime": {
     "end_time": "2019-01-13T08:05:17.037027Z",
     "start_time": "2019-01-13T08:05:17.022389Z"
    }
   },
   "outputs": [],
   "source": [
    "df['YEARS EXPERIENCE']=df['YEARS EXPERIENCE'].astype('object')"
   ]
  },
  {
   "cell_type": "code",
   "execution_count": 20,
   "metadata": {
    "ExecuteTime": {
     "end_time": "2019-01-13T08:05:29.209927Z",
     "start_time": "2019-01-13T08:05:29.197497Z"
    }
   },
   "outputs": [
    {
     "data": {
      "text/plain": [
       "Tom         23\n",
       "Niko         1\n",
       "Penelope    12\n",
       "Aria         8\n",
       "Sofia       23\n",
       "Dean         3\n",
       "Zach         4\n",
       "Name: YEARS EXPERIENCE, dtype: object"
      ]
     },
     "execution_count": 20,
     "metadata": {},
     "output_type": "execute_result"
    }
   ],
   "source": [
    "df['YEARS EXPERIENCE']"
   ]
  },
  {
   "cell_type": "code",
   "execution_count": 21,
   "metadata": {
    "ExecuteTime": {
     "end_time": "2019-01-13T08:05:38.146683Z",
     "start_time": "2019-01-13T08:05:38.139241Z"
    }
   },
   "outputs": [
    {
     "data": {
      "text/plain": [
       "dtype('O')"
      ]
     },
     "execution_count": 21,
     "metadata": {},
     "output_type": "execute_result"
    }
   ],
   "source": [
    "df['YEARS EXPERIENCE'].dtype"
   ]
  },
  {
   "cell_type": "code",
   "execution_count": null,
   "metadata": {},
   "outputs": [],
   "source": [
    "+ 给bonus列的['Niko', 'Penelope', 'Aria'] 赋值"
   ]
  },
  {
   "cell_type": "code",
   "execution_count": 22,
   "metadata": {
    "ExecuteTime": {
     "end_time": "2019-01-13T08:09:26.158837Z",
     "start_time": "2019-01-13T08:09:26.144208Z"
    }
   },
   "outputs": [],
   "source": [
    "df.loc[['Niko', 'Penelope', 'Aria'],'bonus']=[2301,4563,6548]"
   ]
  },
  {
   "cell_type": "code",
   "execution_count": 23,
   "metadata": {
    "ExecuteTime": {
     "end_time": "2019-01-13T08:09:30.079078Z",
     "start_time": "2019-01-13T08:09:30.051817Z"
    }
   },
   "outputs": [
    {
     "data": {
      "text/html": [
       "<div>\n",
       "<style scoped>\n",
       "    .dataframe tbody tr th:only-of-type {\n",
       "        vertical-align: middle;\n",
       "    }\n",
       "\n",
       "    .dataframe tbody tr th {\n",
       "        vertical-align: top;\n",
       "    }\n",
       "\n",
       "    .dataframe thead th {\n",
       "        text-align: right;\n",
       "    }\n",
       "</style>\n",
       "<table border=\"1\" class=\"dataframe\">\n",
       "  <thead>\n",
       "    <tr style=\"text-align: right;\">\n",
       "      <th></th>\n",
       "      <th>GENDER</th>\n",
       "      <th>RACE</th>\n",
       "      <th>DEPARTMENT</th>\n",
       "      <th>YEARS EXPERIENCE</th>\n",
       "      <th>SALARY</th>\n",
       "      <th>BONUS RATE</th>\n",
       "      <th>bonus</th>\n",
       "    </tr>\n",
       "  </thead>\n",
       "  <tbody>\n",
       "    <tr>\n",
       "      <th>Tom</th>\n",
       "      <td>Male</td>\n",
       "      <td>White</td>\n",
       "      <td>Engineering</td>\n",
       "      <td>23</td>\n",
       "      <td>107962</td>\n",
       "      <td>0.20</td>\n",
       "      <td>9999</td>\n",
       "    </tr>\n",
       "    <tr>\n",
       "      <th>Niko</th>\n",
       "      <td>Male</td>\n",
       "      <td>Black</td>\n",
       "      <td>Engineering</td>\n",
       "      <td>1</td>\n",
       "      <td>30347</td>\n",
       "      <td>0.10</td>\n",
       "      <td>2301</td>\n",
       "    </tr>\n",
       "    <tr>\n",
       "      <th>Penelope</th>\n",
       "      <td>Female</td>\n",
       "      <td>White</td>\n",
       "      <td>Engineering</td>\n",
       "      <td>12</td>\n",
       "      <td>60258</td>\n",
       "      <td>0.13</td>\n",
       "      <td>4563</td>\n",
       "    </tr>\n",
       "    <tr>\n",
       "      <th>Aria</th>\n",
       "      <td>Female</td>\n",
       "      <td>Black</td>\n",
       "      <td>Engineering</td>\n",
       "      <td>8</td>\n",
       "      <td>43618</td>\n",
       "      <td>0.15</td>\n",
       "      <td>6548</td>\n",
       "    </tr>\n",
       "    <tr>\n",
       "      <th>Sofia</th>\n",
       "      <td>Female</td>\n",
       "      <td>Black</td>\n",
       "      <td>Parks &amp; Recreation</td>\n",
       "      <td>23</td>\n",
       "      <td>26125</td>\n",
       "      <td>0.12</td>\n",
       "      <td>9999</td>\n",
       "    </tr>\n",
       "    <tr>\n",
       "      <th>Dean</th>\n",
       "      <td>Male</td>\n",
       "      <td>Black</td>\n",
       "      <td>Parks &amp; Recreation</td>\n",
       "      <td>3</td>\n",
       "      <td>33592</td>\n",
       "      <td>0.30</td>\n",
       "      <td>9999</td>\n",
       "    </tr>\n",
       "    <tr>\n",
       "      <th>Zach</th>\n",
       "      <td>Male</td>\n",
       "      <td>White</td>\n",
       "      <td>Parks &amp; Recreation</td>\n",
       "      <td>4</td>\n",
       "      <td>37565</td>\n",
       "      <td>0.05</td>\n",
       "      <td>9999</td>\n",
       "    </tr>\n",
       "  </tbody>\n",
       "</table>\n",
       "</div>"
      ],
      "text/plain": [
       "          GENDER   RACE          DEPARTMENT YEARS EXPERIENCE  SALARY  \\\n",
       "Tom         Male  White         Engineering               23  107962   \n",
       "Niko        Male  Black         Engineering                1   30347   \n",
       "Penelope  Female  White         Engineering               12   60258   \n",
       "Aria      Female  Black         Engineering                8   43618   \n",
       "Sofia     Female  Black  Parks & Recreation               23   26125   \n",
       "Dean        Male  Black  Parks & Recreation                3   33592   \n",
       "Zach        Male  White  Parks & Recreation                4   37565   \n",
       "\n",
       "          BONUS RATE  bonus  \n",
       "Tom             0.20   9999  \n",
       "Niko            0.10   2301  \n",
       "Penelope        0.13   4563  \n",
       "Aria            0.15   6548  \n",
       "Sofia           0.12   9999  \n",
       "Dean            0.30   9999  \n",
       "Zach            0.05   9999  "
      ]
     },
     "execution_count": 23,
     "metadata": {},
     "output_type": "execute_result"
    }
   ],
   "source": [
    "df"
   ]
  },
  {
   "cell_type": "markdown",
   "metadata": {},
   "source": [
    "+ 使用iloc 赋值"
   ]
  },
  {
   "cell_type": "code",
   "execution_count": 24,
   "metadata": {
    "ExecuteTime": {
     "end_time": "2019-01-13T08:16:38.047265Z",
     "start_time": "2019-01-13T08:16:38.033535Z"
    }
   },
   "outputs": [],
   "source": [
    "df.iloc[3:6,3]=10"
   ]
  },
  {
   "cell_type": "code",
   "execution_count": 25,
   "metadata": {
    "ExecuteTime": {
     "end_time": "2019-01-13T08:16:40.808004Z",
     "start_time": "2019-01-13T08:16:40.779211Z"
    }
   },
   "outputs": [
    {
     "data": {
      "text/html": [
       "<div>\n",
       "<style scoped>\n",
       "    .dataframe tbody tr th:only-of-type {\n",
       "        vertical-align: middle;\n",
       "    }\n",
       "\n",
       "    .dataframe tbody tr th {\n",
       "        vertical-align: top;\n",
       "    }\n",
       "\n",
       "    .dataframe thead th {\n",
       "        text-align: right;\n",
       "    }\n",
       "</style>\n",
       "<table border=\"1\" class=\"dataframe\">\n",
       "  <thead>\n",
       "    <tr style=\"text-align: right;\">\n",
       "      <th></th>\n",
       "      <th>GENDER</th>\n",
       "      <th>RACE</th>\n",
       "      <th>DEPARTMENT</th>\n",
       "      <th>YEARS EXPERIENCE</th>\n",
       "      <th>SALARY</th>\n",
       "      <th>BONUS RATE</th>\n",
       "      <th>bonus</th>\n",
       "    </tr>\n",
       "  </thead>\n",
       "  <tbody>\n",
       "    <tr>\n",
       "      <th>Tom</th>\n",
       "      <td>Male</td>\n",
       "      <td>White</td>\n",
       "      <td>Engineering</td>\n",
       "      <td>23</td>\n",
       "      <td>107962</td>\n",
       "      <td>0.20</td>\n",
       "      <td>9999</td>\n",
       "    </tr>\n",
       "    <tr>\n",
       "      <th>Niko</th>\n",
       "      <td>Male</td>\n",
       "      <td>Black</td>\n",
       "      <td>Engineering</td>\n",
       "      <td>1</td>\n",
       "      <td>30347</td>\n",
       "      <td>0.10</td>\n",
       "      <td>2301</td>\n",
       "    </tr>\n",
       "    <tr>\n",
       "      <th>Penelope</th>\n",
       "      <td>Female</td>\n",
       "      <td>White</td>\n",
       "      <td>Engineering</td>\n",
       "      <td>12</td>\n",
       "      <td>60258</td>\n",
       "      <td>0.13</td>\n",
       "      <td>4563</td>\n",
       "    </tr>\n",
       "    <tr>\n",
       "      <th>Aria</th>\n",
       "      <td>Female</td>\n",
       "      <td>Black</td>\n",
       "      <td>Engineering</td>\n",
       "      <td>10</td>\n",
       "      <td>43618</td>\n",
       "      <td>0.15</td>\n",
       "      <td>6548</td>\n",
       "    </tr>\n",
       "    <tr>\n",
       "      <th>Sofia</th>\n",
       "      <td>Female</td>\n",
       "      <td>Black</td>\n",
       "      <td>Parks &amp; Recreation</td>\n",
       "      <td>10</td>\n",
       "      <td>26125</td>\n",
       "      <td>0.12</td>\n",
       "      <td>9999</td>\n",
       "    </tr>\n",
       "    <tr>\n",
       "      <th>Dean</th>\n",
       "      <td>Male</td>\n",
       "      <td>Black</td>\n",
       "      <td>Parks &amp; Recreation</td>\n",
       "      <td>10</td>\n",
       "      <td>33592</td>\n",
       "      <td>0.30</td>\n",
       "      <td>9999</td>\n",
       "    </tr>\n",
       "    <tr>\n",
       "      <th>Zach</th>\n",
       "      <td>Male</td>\n",
       "      <td>White</td>\n",
       "      <td>Parks &amp; Recreation</td>\n",
       "      <td>4</td>\n",
       "      <td>37565</td>\n",
       "      <td>0.05</td>\n",
       "      <td>9999</td>\n",
       "    </tr>\n",
       "  </tbody>\n",
       "</table>\n",
       "</div>"
      ],
      "text/plain": [
       "          GENDER   RACE          DEPARTMENT YEARS EXPERIENCE  SALARY  \\\n",
       "Tom         Male  White         Engineering               23  107962   \n",
       "Niko        Male  Black         Engineering                1   30347   \n",
       "Penelope  Female  White         Engineering               12   60258   \n",
       "Aria      Female  Black         Engineering               10   43618   \n",
       "Sofia     Female  Black  Parks & Recreation               10   26125   \n",
       "Dean        Male  Black  Parks & Recreation               10   33592   \n",
       "Zach        Male  White  Parks & Recreation                4   37565   \n",
       "\n",
       "          BONUS RATE  bonus  \n",
       "Tom             0.20   9999  \n",
       "Niko            0.10   2301  \n",
       "Penelope        0.13   4563  \n",
       "Aria            0.15   6548  \n",
       "Sofia           0.12   9999  \n",
       "Dean            0.30   9999  \n",
       "Zach            0.05   9999  "
      ]
     },
     "execution_count": 25,
     "metadata": {},
     "output_type": "execute_result"
    }
   ],
   "source": [
    "df"
   ]
  },
  {
   "cell_type": "code",
   "execution_count": 27,
   "metadata": {
    "ExecuteTime": {
     "end_time": "2019-01-13T08:17:46.760912Z",
     "start_time": "2019-01-13T08:17:46.736322Z"
    }
   },
   "outputs": [
    {
     "data": {
      "text/html": [
       "<div>\n",
       "<style scoped>\n",
       "    .dataframe tbody tr th:only-of-type {\n",
       "        vertical-align: middle;\n",
       "    }\n",
       "\n",
       "    .dataframe tbody tr th {\n",
       "        vertical-align: top;\n",
       "    }\n",
       "\n",
       "    .dataframe thead th {\n",
       "        text-align: right;\n",
       "    }\n",
       "</style>\n",
       "<table border=\"1\" class=\"dataframe\">\n",
       "  <thead>\n",
       "    <tr style=\"text-align: right;\">\n",
       "      <th></th>\n",
       "      <th>GENDER</th>\n",
       "      <th>RACE</th>\n",
       "      <th>DEPARTMENT</th>\n",
       "      <th>YEARS EXPERIENCE</th>\n",
       "      <th>SALARY</th>\n",
       "      <th>BONUS RATE</th>\n",
       "      <th>bonus</th>\n",
       "    </tr>\n",
       "  </thead>\n",
       "  <tbody>\n",
       "    <tr>\n",
       "      <th>Tom</th>\n",
       "      <td>Male</td>\n",
       "      <td>White</td>\n",
       "      <td>Engineering</td>\n",
       "      <td>33</td>\n",
       "      <td>107962</td>\n",
       "      <td>0.20</td>\n",
       "      <td>9999</td>\n",
       "    </tr>\n",
       "    <tr>\n",
       "      <th>Niko</th>\n",
       "      <td>Male</td>\n",
       "      <td>Black</td>\n",
       "      <td>Engineering</td>\n",
       "      <td>33</td>\n",
       "      <td>30347</td>\n",
       "      <td>0.10</td>\n",
       "      <td>2301</td>\n",
       "    </tr>\n",
       "    <tr>\n",
       "      <th>Penelope</th>\n",
       "      <td>Female</td>\n",
       "      <td>White</td>\n",
       "      <td>Engineering</td>\n",
       "      <td>33</td>\n",
       "      <td>60258</td>\n",
       "      <td>0.13</td>\n",
       "      <td>4563</td>\n",
       "    </tr>\n",
       "    <tr>\n",
       "      <th>Aria</th>\n",
       "      <td>Female</td>\n",
       "      <td>Black</td>\n",
       "      <td>Engineering</td>\n",
       "      <td>33</td>\n",
       "      <td>43618</td>\n",
       "      <td>0.15</td>\n",
       "      <td>6548</td>\n",
       "    </tr>\n",
       "    <tr>\n",
       "      <th>Sofia</th>\n",
       "      <td>Female</td>\n",
       "      <td>Black</td>\n",
       "      <td>Parks &amp; Recreation</td>\n",
       "      <td>33</td>\n",
       "      <td>26125</td>\n",
       "      <td>0.12</td>\n",
       "      <td>9999</td>\n",
       "    </tr>\n",
       "    <tr>\n",
       "      <th>Dean</th>\n",
       "      <td>Male</td>\n",
       "      <td>Black</td>\n",
       "      <td>Parks &amp; Recreation</td>\n",
       "      <td>33</td>\n",
       "      <td>33592</td>\n",
       "      <td>0.30</td>\n",
       "      <td>9999</td>\n",
       "    </tr>\n",
       "    <tr>\n",
       "      <th>Zach</th>\n",
       "      <td>Male</td>\n",
       "      <td>White</td>\n",
       "      <td>Parks &amp; Recreation</td>\n",
       "      <td>33</td>\n",
       "      <td>37565</td>\n",
       "      <td>0.05</td>\n",
       "      <td>9999</td>\n",
       "    </tr>\n",
       "  </tbody>\n",
       "</table>\n",
       "</div>"
      ],
      "text/plain": [
       "          GENDER   RACE          DEPARTMENT  YEARS EXPERIENCE  SALARY  \\\n",
       "Tom         Male  White         Engineering                33  107962   \n",
       "Niko        Male  Black         Engineering                33   30347   \n",
       "Penelope  Female  White         Engineering                33   60258   \n",
       "Aria      Female  Black         Engineering                33   43618   \n",
       "Sofia     Female  Black  Parks & Recreation                33   26125   \n",
       "Dean        Male  Black  Parks & Recreation                33   33592   \n",
       "Zach        Male  White  Parks & Recreation                33   37565   \n",
       "\n",
       "          BONUS RATE  bonus  \n",
       "Tom             0.20   9999  \n",
       "Niko            0.10   2301  \n",
       "Penelope        0.13   4563  \n",
       "Aria            0.15   6548  \n",
       "Sofia           0.12   9999  \n",
       "Dean            0.30   9999  \n",
       "Zach            0.05   9999  "
      ]
     },
     "execution_count": 27,
     "metadata": {},
     "output_type": "execute_result"
    }
   ],
   "source": [
    "df.iloc[:,3]=33\n",
    "df"
   ]
  },
  {
   "cell_type": "code",
   "execution_count": null,
   "metadata": {},
   "outputs": [],
   "source": [
    "+ 使用loc 筛选数据并修改其值\n",
    "    - 修改DEPARTMENT列中等于Engineering，对应的bonus值"
   ]
  },
  {
   "cell_type": "code",
   "execution_count": 28,
   "metadata": {
    "ExecuteTime": {
     "end_time": "2019-01-13T08:20:51.781305Z",
     "start_time": "2019-01-13T08:20:51.764853Z"
    }
   },
   "outputs": [],
   "source": [
    "df.loc[df['DEPARTMENT']=='Engineering','bonus']+=500"
   ]
  },
  {
   "cell_type": "code",
   "execution_count": 29,
   "metadata": {
    "ExecuteTime": {
     "end_time": "2019-01-13T08:20:53.399819Z",
     "start_time": "2019-01-13T08:20:53.359422Z"
    }
   },
   "outputs": [
    {
     "data": {
      "text/html": [
       "<div>\n",
       "<style scoped>\n",
       "    .dataframe tbody tr th:only-of-type {\n",
       "        vertical-align: middle;\n",
       "    }\n",
       "\n",
       "    .dataframe tbody tr th {\n",
       "        vertical-align: top;\n",
       "    }\n",
       "\n",
       "    .dataframe thead th {\n",
       "        text-align: right;\n",
       "    }\n",
       "</style>\n",
       "<table border=\"1\" class=\"dataframe\">\n",
       "  <thead>\n",
       "    <tr style=\"text-align: right;\">\n",
       "      <th></th>\n",
       "      <th>GENDER</th>\n",
       "      <th>RACE</th>\n",
       "      <th>DEPARTMENT</th>\n",
       "      <th>YEARS EXPERIENCE</th>\n",
       "      <th>SALARY</th>\n",
       "      <th>BONUS RATE</th>\n",
       "      <th>bonus</th>\n",
       "    </tr>\n",
       "  </thead>\n",
       "  <tbody>\n",
       "    <tr>\n",
       "      <th>Tom</th>\n",
       "      <td>Male</td>\n",
       "      <td>White</td>\n",
       "      <td>Engineering</td>\n",
       "      <td>33</td>\n",
       "      <td>107962</td>\n",
       "      <td>0.20</td>\n",
       "      <td>10499</td>\n",
       "    </tr>\n",
       "    <tr>\n",
       "      <th>Niko</th>\n",
       "      <td>Male</td>\n",
       "      <td>Black</td>\n",
       "      <td>Engineering</td>\n",
       "      <td>33</td>\n",
       "      <td>30347</td>\n",
       "      <td>0.10</td>\n",
       "      <td>2801</td>\n",
       "    </tr>\n",
       "    <tr>\n",
       "      <th>Penelope</th>\n",
       "      <td>Female</td>\n",
       "      <td>White</td>\n",
       "      <td>Engineering</td>\n",
       "      <td>33</td>\n",
       "      <td>60258</td>\n",
       "      <td>0.13</td>\n",
       "      <td>5063</td>\n",
       "    </tr>\n",
       "    <tr>\n",
       "      <th>Aria</th>\n",
       "      <td>Female</td>\n",
       "      <td>Black</td>\n",
       "      <td>Engineering</td>\n",
       "      <td>33</td>\n",
       "      <td>43618</td>\n",
       "      <td>0.15</td>\n",
       "      <td>7048</td>\n",
       "    </tr>\n",
       "    <tr>\n",
       "      <th>Sofia</th>\n",
       "      <td>Female</td>\n",
       "      <td>Black</td>\n",
       "      <td>Parks &amp; Recreation</td>\n",
       "      <td>33</td>\n",
       "      <td>26125</td>\n",
       "      <td>0.12</td>\n",
       "      <td>9999</td>\n",
       "    </tr>\n",
       "    <tr>\n",
       "      <th>Dean</th>\n",
       "      <td>Male</td>\n",
       "      <td>Black</td>\n",
       "      <td>Parks &amp; Recreation</td>\n",
       "      <td>33</td>\n",
       "      <td>33592</td>\n",
       "      <td>0.30</td>\n",
       "      <td>9999</td>\n",
       "    </tr>\n",
       "    <tr>\n",
       "      <th>Zach</th>\n",
       "      <td>Male</td>\n",
       "      <td>White</td>\n",
       "      <td>Parks &amp; Recreation</td>\n",
       "      <td>33</td>\n",
       "      <td>37565</td>\n",
       "      <td>0.05</td>\n",
       "      <td>9999</td>\n",
       "    </tr>\n",
       "  </tbody>\n",
       "</table>\n",
       "</div>"
      ],
      "text/plain": [
       "          GENDER   RACE          DEPARTMENT  YEARS EXPERIENCE  SALARY  \\\n",
       "Tom         Male  White         Engineering                33  107962   \n",
       "Niko        Male  Black         Engineering                33   30347   \n",
       "Penelope  Female  White         Engineering                33   60258   \n",
       "Aria      Female  Black         Engineering                33   43618   \n",
       "Sofia     Female  Black  Parks & Recreation                33   26125   \n",
       "Dean        Male  Black  Parks & Recreation                33   33592   \n",
       "Zach        Male  White  Parks & Recreation                33   37565   \n",
       "\n",
       "          BONUS RATE  bonus  \n",
       "Tom             0.20  10499  \n",
       "Niko            0.10   2801  \n",
       "Penelope        0.13   5063  \n",
       "Aria            0.15   7048  \n",
       "Sofia           0.12   9999  \n",
       "Dean            0.30   9999  \n",
       "Zach            0.05   9999  "
      ]
     },
     "execution_count": 29,
     "metadata": {},
     "output_type": "execute_result"
    }
   ],
   "source": [
    "df"
   ]
  },
  {
   "cell_type": "markdown",
   "metadata": {},
   "source": [
    "## Series 赋值操作"
   ]
  },
  {
   "cell_type": "code",
   "execution_count": 30,
   "metadata": {
    "ExecuteTime": {
     "end_time": "2019-01-13T08:25:56.891348Z",
     "start_time": "2019-01-13T08:25:56.873025Z"
    }
   },
   "outputs": [
    {
     "data": {
      "text/plain": [
       "Tom         107962\n",
       "Niko         30347\n",
       "Penelope     60258\n",
       "Aria         43618\n",
       "Sofia        26125\n",
       "Dean         33592\n",
       "Zach         37565\n",
       "Name: SALARY, dtype: int64"
      ]
     },
     "execution_count": 30,
     "metadata": {},
     "output_type": "execute_result"
    }
   ],
   "source": [
    "s=df['SALARY'].copy()\n",
    "s"
   ]
  },
  {
   "cell_type": "code",
   "execution_count": 35,
   "metadata": {
    "ExecuteTime": {
     "end_time": "2019-01-13T08:27:32.313844Z",
     "start_time": "2019-01-13T08:27:32.306201Z"
    }
   },
   "outputs": [],
   "source": [
    "s.loc[['Tom','Niko','Aria']]=[99,123,321]"
   ]
  },
  {
   "cell_type": "code",
   "execution_count": 36,
   "metadata": {
    "ExecuteTime": {
     "end_time": "2019-01-13T08:27:33.818037Z",
     "start_time": "2019-01-13T08:27:33.813113Z"
    }
   },
   "outputs": [
    {
     "data": {
      "text/plain": [
       "Tom            99\n",
       "Niko          123\n",
       "Penelope       33\n",
       "Aria          321\n",
       "Sofia       26125\n",
       "Dean        33592\n",
       "Zach        37565\n",
       "Name: SALARY, dtype: int64"
      ]
     },
     "execution_count": 36,
     "metadata": {},
     "output_type": "execute_result"
    }
   ],
   "source": [
    "s"
   ]
  },
  {
   "cell_type": "code",
   "execution_count": 33,
   "metadata": {
    "ExecuteTime": {
     "end_time": "2019-01-13T08:26:51.874452Z",
     "start_time": "2019-01-13T08:26:51.862104Z"
    }
   },
   "outputs": [],
   "source": [
    "s.iloc[1:3]=33"
   ]
  },
  {
   "cell_type": "code",
   "execution_count": 34,
   "metadata": {
    "ExecuteTime": {
     "end_time": "2019-01-13T08:26:53.540030Z",
     "start_time": "2019-01-13T08:26:53.530774Z"
    }
   },
   "outputs": [
    {
     "data": {
      "text/plain": [
       "Tom            99\n",
       "Niko           33\n",
       "Penelope       33\n",
       "Aria           99\n",
       "Sofia       26125\n",
       "Dean        33592\n",
       "Zach        37565\n",
       "Name: SALARY, dtype: int64"
      ]
     },
     "execution_count": 34,
     "metadata": {},
     "output_type": "execute_result"
    }
   ],
   "source": [
    "s"
   ]
  },
  {
   "cell_type": "code",
   "execution_count": null,
   "metadata": {},
   "outputs": [],
   "source": []
  },
  {
   "cell_type": "code",
   "execution_count": null,
   "metadata": {},
   "outputs": [],
   "source": []
  }
 ],
 "metadata": {
  "kernelspec": {
   "display_name": "Python 3",
   "language": "python",
   "name": "python3"
  },
  "language_info": {
   "codemirror_mode": {
    "name": "ipython",
    "version": 3
   },
   "file_extension": ".py",
   "mimetype": "text/x-python",
   "name": "python",
   "nbconvert_exporter": "python",
   "pygments_lexer": "ipython3",
   "version": "3.7.0"
  },
  "toc": {
   "base_numbering": 1,
   "nav_menu": {},
   "number_sections": true,
   "sideBar": true,
   "skip_h1_title": false,
   "title_cell": "Table of Contents",
   "title_sidebar": "Contents",
   "toc_cell": false,
   "toc_position": {},
   "toc_section_display": true,
   "toc_window_display": false
  }
 },
 "nbformat": 4,
 "nbformat_minor": 2
}
