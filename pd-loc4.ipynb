

```python
import pandas as pd
import numpy as np
```


```python
df= pd.read_csv('data/sample_data.csv',index_col=0)
df
```




<div>
<style scoped>
    .dataframe tbody tr th:only-of-type {
        vertical-align: middle;
    }

    .dataframe tbody tr th {
        vertical-align: top;
    }

    .dataframe thead th {
        text-align: right;
    }
</style>
<table border="1" class="dataframe">
  <thead>
    <tr style="text-align: right;">
      <th></th>
      <th>state</th>
      <th>color</th>
      <th>food</th>
      <th>age</th>
      <th>height</th>
      <th>score</th>
    </tr>
  </thead>
  <tbody>
    <tr>
      <th>Jane</th>
      <td>NY</td>
      <td>blue</td>
      <td>Steak</td>
      <td>30</td>
      <td>165</td>
      <td>4.6</td>
    </tr>
    <tr>
      <th>Niko</th>
      <td>TX</td>
      <td>green</td>
      <td>Lamb</td>
      <td>2</td>
      <td>70</td>
      <td>8.3</td>
    </tr>
    <tr>
      <th>Aaron</th>
      <td>FL</td>
      <td>red</td>
      <td>Mango</td>
      <td>12</td>
      <td>120</td>
      <td>9.0</td>
    </tr>
    <tr>
      <th>Penelope</th>
      <td>AL</td>
      <td>white</td>
      <td>Apple</td>
      <td>4</td>
      <td>80</td>
      <td>3.3</td>
    </tr>
    <tr>
      <th>Dean</th>
      <td>AK</td>
      <td>gray</td>
      <td>Cheese</td>
      <td>32</td>
      <td>180</td>
      <td>1.8</td>
    </tr>
    <tr>
      <th>Christina</th>
      <td>TX</td>
      <td>black</td>
      <td>Melon</td>
      <td>33</td>
      <td>172</td>
      <td>9.5</td>
    </tr>
    <tr>
      <th>Cornelia</th>
      <td>TX</td>
      <td>red</td>
      <td>Beans</td>
      <td>69</td>
      <td>150</td>
      <td>2.2</td>
    </tr>
  </tbody>
</table>
</div>



### 对比


```python
df[2:6]
```




<div>
<style scoped>
    .dataframe tbody tr th:only-of-type {
        vertical-align: middle;
    }

    .dataframe tbody tr th {
        vertical-align: top;
    }

    .dataframe thead th {
        text-align: right;
    }
</style>
<table border="1" class="dataframe">
  <thead>
    <tr style="text-align: right;">
      <th></th>
      <th>state</th>
      <th>color</th>
      <th>food</th>
      <th>age</th>
      <th>height</th>
      <th>score</th>
    </tr>
  </thead>
  <tbody>
    <tr>
      <th>Aaron</th>
      <td>FL</td>
      <td>red</td>
      <td>Mango</td>
      <td>12</td>
      <td>120</td>
      <td>9.0</td>
    </tr>
    <tr>
      <th>Penelope</th>
      <td>AL</td>
      <td>white</td>
      <td>Apple</td>
      <td>4</td>
      <td>80</td>
      <td>3.3</td>
    </tr>
    <tr>
      <th>Dean</th>
      <td>AK</td>
      <td>gray</td>
      <td>Cheese</td>
      <td>32</td>
      <td>180</td>
      <td>1.8</td>
    </tr>
    <tr>
      <th>Christina</th>
      <td>TX</td>
      <td>black</td>
      <td>Melon</td>
      <td>33</td>
      <td>172</td>
      <td>9.5</td>
    </tr>
  </tbody>
</table>
</div>



**上边的例子选择了行数字索引2--6的数据**


```python
df['Jane':'Aaron']
```




<div>
<style scoped>
    .dataframe tbody tr th:only-of-type {
        vertical-align: middle;
    }

    .dataframe tbody tr th {
        vertical-align: top;
    }

    .dataframe thead th {
        text-align: right;
    }
</style>
<table border="1" class="dataframe">
  <thead>
    <tr style="text-align: right;">
      <th></th>
      <th>state</th>
      <th>color</th>
      <th>food</th>
      <th>age</th>
      <th>height</th>
      <th>score</th>
    </tr>
  </thead>
  <tbody>
    <tr>
      <th>Jane</th>
      <td>NY</td>
      <td>blue</td>
      <td>Steak</td>
      <td>30</td>
      <td>165</td>
      <td>4.6</td>
    </tr>
    <tr>
      <th>Niko</th>
      <td>TX</td>
      <td>green</td>
      <td>Lamb</td>
      <td>2</td>
      <td>70</td>
      <td>8.3</td>
    </tr>
    <tr>
      <th>Aaron</th>
      <td>FL</td>
      <td>red</td>
      <td>Mango</td>
      <td>12</td>
      <td>120</td>
      <td>9.0</td>
    </tr>
  </tbody>
</table>
</div>



**上边的例子选择了行Jane--Aaron的数据**


```python
df.iloc[2:6]
```




<div>
<style scoped>
    .dataframe tbody tr th:only-of-type {
        vertical-align: middle;
    }

    .dataframe tbody tr th {
        vertical-align: top;
    }

    .dataframe thead th {
        text-align: right;
    }
</style>
<table border="1" class="dataframe">
  <thead>
    <tr style="text-align: right;">
      <th></th>
      <th>state</th>
      <th>color</th>
      <th>food</th>
      <th>age</th>
      <th>height</th>
      <th>score</th>
    </tr>
  </thead>
  <tbody>
    <tr>
      <th>Aaron</th>
      <td>FL</td>
      <td>red</td>
      <td>Mango</td>
      <td>12</td>
      <td>120</td>
      <td>9.0</td>
    </tr>
    <tr>
      <th>Penelope</th>
      <td>AL</td>
      <td>white</td>
      <td>Apple</td>
      <td>4</td>
      <td>80</td>
      <td>3.3</td>
    </tr>
    <tr>
      <th>Dean</th>
      <td>AK</td>
      <td>gray</td>
      <td>Cheese</td>
      <td>32</td>
      <td>180</td>
      <td>1.8</td>
    </tr>
    <tr>
      <th>Christina</th>
      <td>TX</td>
      <td>black</td>
      <td>Melon</td>
      <td>33</td>
      <td>172</td>
      <td>9.5</td>
    </tr>
  </tbody>
</table>
</div>




```python
df.loc['Jane':'Aaron']
```




<div>
<style scoped>
    .dataframe tbody tr th:only-of-type {
        vertical-align: middle;
    }

    .dataframe tbody tr th {
        vertical-align: top;
    }

    .dataframe thead th {
        text-align: right;
    }
</style>
<table border="1" class="dataframe">
  <thead>
    <tr style="text-align: right;">
      <th></th>
      <th>state</th>
      <th>color</th>
      <th>food</th>
      <th>age</th>
      <th>height</th>
      <th>score</th>
    </tr>
  </thead>
  <tbody>
    <tr>
      <th>Jane</th>
      <td>NY</td>
      <td>blue</td>
      <td>Steak</td>
      <td>30</td>
      <td>165</td>
      <td>4.6</td>
    </tr>
    <tr>
      <th>Niko</th>
      <td>TX</td>
      <td>green</td>
      <td>Lamb</td>
      <td>2</td>
      <td>70</td>
      <td>8.3</td>
    </tr>
    <tr>
      <th>Aaron</th>
      <td>FL</td>
      <td>red</td>
      <td>Mango</td>
      <td>12</td>
      <td>120</td>
      <td>9.0</td>
    </tr>
  </tbody>
</table>
</div>



**显然下边的用法更加清晰**
同理对比一下Series


```python
f=df['food']
```


```python
f
```




    Jane          Steak
    Niko           Lamb
    Aaron         Mango
    Penelope      Apple
    Dean         Cheese
    Christina     Melon
    Cornelia      Beans
    Name: food, dtype: object




```python
f[2:4]
```




    Aaron       Mango
    Penelope    Apple
    Name: food, dtype: object




```python
f.iloc[2:4]
```




    Aaron       Mango
    Penelope    Apple
    Name: food, dtype: object




```python
f['Niko':'Dean']
```




    Niko          Lamb
    Aaron        Mango
    Penelope     Apple
    Dean        Cheese
    Name: food, dtype: object




```python
f.loc['Niko':'Dean']
```




    Niko          Lamb
    Aaron        Mango
    Penelope     Apple
    Dean        Cheese
    Name: food, dtype: object




```python
f['Dean']
```




    'Cheese'




```python
f.loc['Dean']
```




    'Cheese'




```python
f[['Dean','Jane','Niko']]
```




    Dean    Cheese
    Jane     Steak
    Niko      Lamb
    Name: food, dtype: object




```python
f.loc[['Dean','Jane','Niko']]
```




    Dean    Cheese
    Jane     Steak
    Niko      Lamb
    Name: food, dtype: object



**说明pandas 是灵活的，但是为了记忆及使用方便，统一都使用iloc，loc**
默认情况下从csv读取数据生成的默认行索引


```python
df1=pd.read_csv('data/sample_data.csv')
```


```python
df1
```




<div>
<style scoped>
    .dataframe tbody tr th:only-of-type {
        vertical-align: middle;
    }

    .dataframe tbody tr th {
        vertical-align: top;
    }

    .dataframe thead th {
        text-align: right;
    }
</style>
<table border="1" class="dataframe">
  <thead>
    <tr style="text-align: right;">
      <th></th>
      <th>Unnamed: 0</th>
      <th>state</th>
      <th>color</th>
      <th>food</th>
      <th>age</th>
      <th>height</th>
      <th>score</th>
    </tr>
  </thead>
  <tbody>
    <tr>
      <th>0</th>
      <td>Jane</td>
      <td>NY</td>
      <td>blue</td>
      <td>Steak</td>
      <td>30</td>
      <td>165</td>
      <td>4.6</td>
    </tr>
    <tr>
      <th>1</th>
      <td>Niko</td>
      <td>TX</td>
      <td>green</td>
      <td>Lamb</td>
      <td>2</td>
      <td>70</td>
      <td>8.3</td>
    </tr>
    <tr>
      <th>2</th>
      <td>Aaron</td>
      <td>FL</td>
      <td>red</td>
      <td>Mango</td>
      <td>12</td>
      <td>120</td>
      <td>9.0</td>
    </tr>
    <tr>
      <th>3</th>
      <td>Penelope</td>
      <td>AL</td>
      <td>white</td>
      <td>Apple</td>
      <td>4</td>
      <td>80</td>
      <td>3.3</td>
    </tr>
    <tr>
      <th>4</th>
      <td>Dean</td>
      <td>AK</td>
      <td>gray</td>
      <td>Cheese</td>
      <td>32</td>
      <td>180</td>
      <td>1.8</td>
    </tr>
    <tr>
      <th>5</th>
      <td>Christina</td>
      <td>TX</td>
      <td>black</td>
      <td>Melon</td>
      <td>33</td>
      <td>172</td>
      <td>9.5</td>
    </tr>
    <tr>
      <th>6</th>
      <td>Cornelia</td>
      <td>TX</td>
      <td>red</td>
      <td>Beans</td>
      <td>69</td>
      <td>150</td>
      <td>2.2</td>
    </tr>
  </tbody>
</table>
</div>




```python
df1.index
```




    RangeIndex(start=0, stop=7, step=1)




```python
df1.loc[[1,3,5],['food','state']]
```




<div>
<style scoped>
    .dataframe tbody tr th:only-of-type {
        vertical-align: middle;
    }

    .dataframe tbody tr th {
        vertical-align: top;
    }

    .dataframe thead th {
        text-align: right;
    }
</style>
<table border="1" class="dataframe">
  <thead>
    <tr style="text-align: right;">
      <th></th>
      <th>food</th>
      <th>state</th>
    </tr>
  </thead>
  <tbody>
    <tr>
      <th>1</th>
      <td>Lamb</td>
      <td>TX</td>
    </tr>
    <tr>
      <th>3</th>
      <td>Apple</td>
      <td>AL</td>
    </tr>
    <tr>
      <th>5</th>
      <td>Melon</td>
      <td>TX</td>
    </tr>
  </tbody>
</table>
</div>




```python
df1.iloc[[1,3,5],[3,1]]
```




<div>
<style scoped>
    .dataframe tbody tr th:only-of-type {
        vertical-align: middle;
    }

    .dataframe tbody tr th {
        vertical-align: top;
    }

    .dataframe thead th {
        text-align: right;
    }
</style>
<table border="1" class="dataframe">
  <thead>
    <tr style="text-align: right;">
      <th></th>
      <th>food</th>
      <th>state</th>
    </tr>
  </thead>
  <tbody>
    <tr>
      <th>1</th>
      <td>Lamb</td>
      <td>TX</td>
    </tr>
    <tr>
      <th>3</th>
      <td>Apple</td>
      <td>AL</td>
    </tr>
    <tr>
      <th>5</th>
      <td>Melon</td>
      <td>TX</td>
    </tr>
  </tbody>
</table>
</div>



**上边是使用名字索引，还是使用数字索引比较清晰，一看就知道，不用进行思考**


```python
df1.iloc[:3]
```




<div>
<style scoped>
    .dataframe tbody tr th:only-of-type {
        vertical-align: middle;
    }

    .dataframe tbody tr th {
        vertical-align: top;
    }

    .dataframe thead th {
        text-align: right;
    }
</style>
<table border="1" class="dataframe">
  <thead>
    <tr style="text-align: right;">
      <th></th>
      <th>Unnamed: 0</th>
      <th>state</th>
      <th>color</th>
      <th>food</th>
      <th>age</th>
      <th>height</th>
      <th>score</th>
    </tr>
  </thead>
  <tbody>
    <tr>
      <th>0</th>
      <td>Jane</td>
      <td>NY</td>
      <td>blue</td>
      <td>Steak</td>
      <td>30</td>
      <td>165</td>
      <td>4.6</td>
    </tr>
    <tr>
      <th>1</th>
      <td>Niko</td>
      <td>TX</td>
      <td>green</td>
      <td>Lamb</td>
      <td>2</td>
      <td>70</td>
      <td>8.3</td>
    </tr>
    <tr>
      <th>2</th>
      <td>Aaron</td>
      <td>FL</td>
      <td>red</td>
      <td>Mango</td>
      <td>12</td>
      <td>120</td>
      <td>9.0</td>
    </tr>
  </tbody>
</table>
</div>




```python
df1.loc[:3]
```




<div>
<style scoped>
    .dataframe tbody tr th:only-of-type {
        vertical-align: middle;
    }

    .dataframe tbody tr th {
        vertical-align: top;
    }

    .dataframe thead th {
        text-align: right;
    }
</style>
<table border="1" class="dataframe">
  <thead>
    <tr style="text-align: right;">
      <th></th>
      <th>Unnamed: 0</th>
      <th>state</th>
      <th>color</th>
      <th>food</th>
      <th>age</th>
      <th>height</th>
      <th>score</th>
    </tr>
  </thead>
  <tbody>
    <tr>
      <th>0</th>
      <td>Jane</td>
      <td>NY</td>
      <td>blue</td>
      <td>Steak</td>
      <td>30</td>
      <td>165</td>
      <td>4.6</td>
    </tr>
    <tr>
      <th>1</th>
      <td>Niko</td>
      <td>TX</td>
      <td>green</td>
      <td>Lamb</td>
      <td>2</td>
      <td>70</td>
      <td>8.3</td>
    </tr>
    <tr>
      <th>2</th>
      <td>Aaron</td>
      <td>FL</td>
      <td>red</td>
      <td>Mango</td>
      <td>12</td>
      <td>120</td>
      <td>9.0</td>
    </tr>
    <tr>
      <th>3</th>
      <td>Penelope</td>
      <td>AL</td>
      <td>white</td>
      <td>Apple</td>
      <td>4</td>
      <td>80</td>
      <td>3.3</td>
    </tr>
  </tbody>
</table>
</div>



**注意上两个例子的区别，在进行切片选择是，iloc不包含最后一个，是[) 前闭后开区间， 而 loc 则是[] 闭区间**


```python

```


```python

```


```python

```


```python

```


```python

```


```python

```


```python

```


```python

```


```python

```
