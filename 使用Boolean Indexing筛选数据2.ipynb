{
 "cells": [
  {
   "cell_type": "markdown",
   "metadata": {},
   "source": [
    "## Boolean条件筛选数据2"
   ]
  },
  {
   "cell_type": "code",
   "execution_count": 2,
   "metadata": {
    "ExecuteTime": {
     "end_time": "2019-01-10T07:42:14.138992Z",
     "start_time": "2019-01-10T07:42:14.092192Z"
    }
   },
   "outputs": [],
   "source": [
    "import pandas as pd\n",
    "import numpy as np\n",
    "from tabulate import tabulate"
   ]
  },
  {
   "cell_type": "code",
   "execution_count": 3,
   "metadata": {
    "ExecuteTime": {
     "end_time": "2019-01-10T07:42:37.046592Z",
     "start_time": "2019-01-10T07:42:35.777992Z"
    }
   },
   "outputs": [
    {
     "data": {
      "text/html": [
       "<div>\n",
       "<style scoped>\n",
       "    .dataframe tbody tr th:only-of-type {\n",
       "        vertical-align: middle;\n",
       "    }\n",
       "\n",
       "    .dataframe tbody tr th {\n",
       "        vertical-align: top;\n",
       "    }\n",
       "\n",
       "    .dataframe thead th {\n",
       "        text-align: right;\n",
       "    }\n",
       "</style>\n",
       "<table border=\"1\" class=\"dataframe\">\n",
       "  <thead>\n",
       "    <tr style=\"text-align: right;\">\n",
       "      <th></th>\n",
       "      <th>id</th>\n",
       "      <th>creationdate</th>\n",
       "      <th>score</th>\n",
       "      <th>viewcount</th>\n",
       "      <th>title</th>\n",
       "      <th>answercount</th>\n",
       "      <th>commentcount</th>\n",
       "      <th>favoritecount</th>\n",
       "      <th>quest_name</th>\n",
       "      <th>quest_rep</th>\n",
       "      <th>ans_name</th>\n",
       "      <th>ans_rep</th>\n",
       "    </tr>\n",
       "  </thead>\n",
       "  <tbody>\n",
       "    <tr>\n",
       "      <th>0</th>\n",
       "      <td>5486226</td>\n",
       "      <td>2011-03-30 12:26:50</td>\n",
       "      <td>4</td>\n",
       "      <td>2113</td>\n",
       "      <td>Rolling median in python</td>\n",
       "      <td>3</td>\n",
       "      <td>4</td>\n",
       "      <td>1.0</td>\n",
       "      <td>yueerhu</td>\n",
       "      <td>125.0</td>\n",
       "      <td>Mike Pennington</td>\n",
       "      <td>26995.0</td>\n",
       "    </tr>\n",
       "    <tr>\n",
       "      <th>1</th>\n",
       "      <td>5515021</td>\n",
       "      <td>2011-04-01 14:50:44</td>\n",
       "      <td>8</td>\n",
       "      <td>7015</td>\n",
       "      <td>Compute a compounded return series in Python</td>\n",
       "      <td>3</td>\n",
       "      <td>6</td>\n",
       "      <td>7.0</td>\n",
       "      <td>Jason Strimpel</td>\n",
       "      <td>3301.0</td>\n",
       "      <td>Mike Pennington</td>\n",
       "      <td>26995.0</td>\n",
       "    </tr>\n",
       "    <tr>\n",
       "      <th>2</th>\n",
       "      <td>5558607</td>\n",
       "      <td>2011-04-05 21:13:50</td>\n",
       "      <td>2</td>\n",
       "      <td>7392</td>\n",
       "      <td>Sort a pandas DataMatrix in ascending order</td>\n",
       "      <td>2</td>\n",
       "      <td>0</td>\n",
       "      <td>1.0</td>\n",
       "      <td>Jason Strimpel</td>\n",
       "      <td>3301.0</td>\n",
       "      <td>Wes McKinney</td>\n",
       "      <td>43310.0</td>\n",
       "    </tr>\n",
       "    <tr>\n",
       "      <th>3</th>\n",
       "      <td>6467832</td>\n",
       "      <td>2011-06-24 12:31:45</td>\n",
       "      <td>9</td>\n",
       "      <td>13056</td>\n",
       "      <td>How to get the correlation between two timeser...</td>\n",
       "      <td>1</td>\n",
       "      <td>0</td>\n",
       "      <td>7.0</td>\n",
       "      <td>user814005</td>\n",
       "      <td>117.0</td>\n",
       "      <td>Wes McKinney</td>\n",
       "      <td>43310.0</td>\n",
       "    </tr>\n",
       "    <tr>\n",
       "      <th>4</th>\n",
       "      <td>7577546</td>\n",
       "      <td>2011-09-28 01:58:38</td>\n",
       "      <td>9</td>\n",
       "      <td>2488</td>\n",
       "      <td>Using pandas, how do I subsample a large DataF...</td>\n",
       "      <td>1</td>\n",
       "      <td>0</td>\n",
       "      <td>5.0</td>\n",
       "      <td>Uri Laserson</td>\n",
       "      <td>958.0</td>\n",
       "      <td>HYRY</td>\n",
       "      <td>54137.0</td>\n",
       "    </tr>\n",
       "  </tbody>\n",
       "</table>\n",
       "</div>"
      ],
      "text/plain": [
       "        id         creationdate  score  viewcount  \\\n",
       "0  5486226  2011-03-30 12:26:50      4       2113   \n",
       "1  5515021  2011-04-01 14:50:44      8       7015   \n",
       "2  5558607  2011-04-05 21:13:50      2       7392   \n",
       "3  6467832  2011-06-24 12:31:45      9      13056   \n",
       "4  7577546  2011-09-28 01:58:38      9       2488   \n",
       "\n",
       "                                               title  answercount  \\\n",
       "0                           Rolling median in python            3   \n",
       "1       Compute a compounded return series in Python            3   \n",
       "2        Sort a pandas DataMatrix in ascending order            2   \n",
       "3  How to get the correlation between two timeser...            1   \n",
       "4  Using pandas, how do I subsample a large DataF...            1   \n",
       "\n",
       "   commentcount  favoritecount      quest_name  quest_rep         ans_name  \\\n",
       "0             4            1.0         yueerhu      125.0  Mike Pennington   \n",
       "1             6            7.0  Jason Strimpel     3301.0  Mike Pennington   \n",
       "2             0            1.0  Jason Strimpel     3301.0     Wes McKinney   \n",
       "3             0            7.0      user814005      117.0     Wes McKinney   \n",
       "4             0            5.0    Uri Laserson      958.0             HYRY   \n",
       "\n",
       "   ans_rep  \n",
       "0  26995.0  \n",
       "1  26995.0  \n",
       "2  43310.0  \n",
       "3  43310.0  \n",
       "4  54137.0  "
      ]
     },
     "execution_count": 3,
     "metadata": {},
     "output_type": "execute_result"
    }
   ],
   "source": [
    "df=pd.read_csv('data/stackoverflow_qa.csv')\n",
    "df.head()"
   ]
  },
  {
   "cell_type": "markdown",
   "metadata": {},
   "source": [
    "+ 复杂的条件筛选\n",
    "   - 条件1:score>=8 并且 ans_name 是以Mike开头\n",
    "   - 条件2:answercount >=2 并且ans_name 是HYRY\n",
    "   - 找出符合这两个条件的数据\n",
    "   - 使用| 将条件1 和条件2 取并集 如下"
   ]
  },
  {
   "cell_type": "code",
   "execution_count": 6,
   "metadata": {
    "ExecuteTime": {
     "end_time": "2019-01-10T07:48:56.902192Z",
     "start_time": "2019-01-10T07:48:56.761792Z"
    }
   },
   "outputs": [
    {
     "data": {
      "text/html": [
       "<div>\n",
       "<style scoped>\n",
       "    .dataframe tbody tr th:only-of-type {\n",
       "        vertical-align: middle;\n",
       "    }\n",
       "\n",
       "    .dataframe tbody tr th {\n",
       "        vertical-align: top;\n",
       "    }\n",
       "\n",
       "    .dataframe thead th {\n",
       "        text-align: right;\n",
       "    }\n",
       "</style>\n",
       "<table border=\"1\" class=\"dataframe\">\n",
       "  <thead>\n",
       "    <tr style=\"text-align: right;\">\n",
       "      <th></th>\n",
       "      <th>id</th>\n",
       "      <th>creationdate</th>\n",
       "      <th>score</th>\n",
       "      <th>viewcount</th>\n",
       "      <th>title</th>\n",
       "      <th>answercount</th>\n",
       "      <th>commentcount</th>\n",
       "      <th>favoritecount</th>\n",
       "      <th>quest_name</th>\n",
       "      <th>quest_rep</th>\n",
       "      <th>ans_name</th>\n",
       "      <th>ans_rep</th>\n",
       "    </tr>\n",
       "  </thead>\n",
       "  <tbody>\n",
       "    <tr>\n",
       "      <th>1</th>\n",
       "      <td>5515021</td>\n",
       "      <td>2011-04-01 14:50:44</td>\n",
       "      <td>8</td>\n",
       "      <td>7015</td>\n",
       "      <td>Compute a compounded return series in Python</td>\n",
       "      <td>3</td>\n",
       "      <td>6</td>\n",
       "      <td>7.0</td>\n",
       "      <td>Jason Strimpel</td>\n",
       "      <td>3301.0</td>\n",
       "      <td>Mike Pennington</td>\n",
       "      <td>26995.0</td>\n",
       "    </tr>\n",
       "    <tr>\n",
       "      <th>216</th>\n",
       "      <td>11619144</td>\n",
       "      <td>2012-07-23 19:26:32</td>\n",
       "      <td>0</td>\n",
       "      <td>613</td>\n",
       "      <td>Pandas xaxis auto-format issue</td>\n",
       "      <td>2</td>\n",
       "      <td>0</td>\n",
       "      <td>NaN</td>\n",
       "      <td>joelhoro</td>\n",
       "      <td>379.0</td>\n",
       "      <td>HYRY</td>\n",
       "      <td>54137.0</td>\n",
       "    </tr>\n",
       "    <tr>\n",
       "      <th>722</th>\n",
       "      <td>13978682</td>\n",
       "      <td>2012-12-20 18:57:18</td>\n",
       "      <td>2</td>\n",
       "      <td>1382</td>\n",
       "      <td>Change Categorical Variable levels to What I p...</td>\n",
       "      <td>3</td>\n",
       "      <td>0</td>\n",
       "      <td>NaN</td>\n",
       "      <td>Tom Bennett</td>\n",
       "      <td>574.0</td>\n",
       "      <td>HYRY</td>\n",
       "      <td>54137.0</td>\n",
       "    </tr>\n",
       "    <tr>\n",
       "      <th>932</th>\n",
       "      <td>15126679</td>\n",
       "      <td>2013-02-28 03:00:33</td>\n",
       "      <td>4</td>\n",
       "      <td>9115</td>\n",
       "      <td>Plot key count per unique value count in pandas</td>\n",
       "      <td>2</td>\n",
       "      <td>0</td>\n",
       "      <td>1.0</td>\n",
       "      <td>monkut</td>\n",
       "      <td>22867.0</td>\n",
       "      <td>HYRY</td>\n",
       "      <td>54137.0</td>\n",
       "    </tr>\n",
       "    <tr>\n",
       "      <th>937</th>\n",
       "      <td>15581829</td>\n",
       "      <td>2013-03-23 00:16:32</td>\n",
       "      <td>6</td>\n",
       "      <td>9456</td>\n",
       "      <td>how to perform an inner or outer join of DataF...</td>\n",
       "      <td>2</td>\n",
       "      <td>0</td>\n",
       "      <td>6.0</td>\n",
       "      <td>zzzeek</td>\n",
       "      <td>41696.0</td>\n",
       "      <td>HYRY</td>\n",
       "      <td>54137.0</td>\n",
       "    </tr>\n",
       "    <tr>\n",
       "      <th>962</th>\n",
       "      <td>17778394</td>\n",
       "      <td>2013-07-22 00:31:30</td>\n",
       "      <td>16</td>\n",
       "      <td>11317</td>\n",
       "      <td>List Highest Correlation Pairs from a Large Co...</td>\n",
       "      <td>4</td>\n",
       "      <td>0</td>\n",
       "      <td>3.0</td>\n",
       "      <td>Kyle Brandt</td>\n",
       "      <td>8282.0</td>\n",
       "      <td>HYRY</td>\n",
       "      <td>54137.0</td>\n",
       "    </tr>\n",
       "    <tr>\n",
       "      <th>1343</th>\n",
       "      <td>18070520</td>\n",
       "      <td>2013-08-06 01:42:47</td>\n",
       "      <td>1</td>\n",
       "      <td>536</td>\n",
       "      <td>pandas memory usage when reindexing</td>\n",
       "      <td>2</td>\n",
       "      <td>2</td>\n",
       "      <td>NaN</td>\n",
       "      <td>Andrea Zonca</td>\n",
       "      <td>3904.0</td>\n",
       "      <td>HYRY</td>\n",
       "      <td>54137.0</td>\n",
       "    </tr>\n",
       "    <tr>\n",
       "      <th>1373</th>\n",
       "      <td>15856213</td>\n",
       "      <td>2013-04-06 21:28:12</td>\n",
       "      <td>5</td>\n",
       "      <td>1896</td>\n",
       "      <td>What is the equivalent to R's match() for pyth...</td>\n",
       "      <td>3</td>\n",
       "      <td>0</td>\n",
       "      <td>1.0</td>\n",
       "      <td>Solomon</td>\n",
       "      <td>546.0</td>\n",
       "      <td>HYRY</td>\n",
       "      <td>54137.0</td>\n",
       "    </tr>\n",
       "    <tr>\n",
       "      <th>1549</th>\n",
       "      <td>17401197</td>\n",
       "      <td>2013-07-01 09:29:11</td>\n",
       "      <td>2</td>\n",
       "      <td>1255</td>\n",
       "      <td>How to speed up Pandas multilevel dataframe sh...</td>\n",
       "      <td>3</td>\n",
       "      <td>0</td>\n",
       "      <td>NaN</td>\n",
       "      <td>bigbug</td>\n",
       "      <td>7865.0</td>\n",
       "      <td>HYRY</td>\n",
       "      <td>54137.0</td>\n",
       "    </tr>\n",
       "    <tr>\n",
       "      <th>1589</th>\n",
       "      <td>15374261</td>\n",
       "      <td>2013-03-12 23:28:23</td>\n",
       "      <td>2</td>\n",
       "      <td>2087</td>\n",
       "      <td>pandas dataframe groupby a number of rows</td>\n",
       "      <td>2</td>\n",
       "      <td>0</td>\n",
       "      <td>1.0</td>\n",
       "      <td>seumas</td>\n",
       "      <td>377.0</td>\n",
       "      <td>HYRY</td>\n",
       "      <td>54137.0</td>\n",
       "    </tr>\n",
       "  </tbody>\n",
       "</table>\n",
       "</div>"
      ],
      "text/plain": [
       "            id         creationdate  score  viewcount  \\\n",
       "1      5515021  2011-04-01 14:50:44      8       7015   \n",
       "216   11619144  2012-07-23 19:26:32      0        613   \n",
       "722   13978682  2012-12-20 18:57:18      2       1382   \n",
       "932   15126679  2013-02-28 03:00:33      4       9115   \n",
       "937   15581829  2013-03-23 00:16:32      6       9456   \n",
       "962   17778394  2013-07-22 00:31:30     16      11317   \n",
       "1343  18070520  2013-08-06 01:42:47      1        536   \n",
       "1373  15856213  2013-04-06 21:28:12      5       1896   \n",
       "1549  17401197  2013-07-01 09:29:11      2       1255   \n",
       "1589  15374261  2013-03-12 23:28:23      2       2087   \n",
       "\n",
       "                                                  title  answercount  \\\n",
       "1          Compute a compounded return series in Python            3   \n",
       "216                      Pandas xaxis auto-format issue            2   \n",
       "722   Change Categorical Variable levels to What I p...            3   \n",
       "932     Plot key count per unique value count in pandas            2   \n",
       "937   how to perform an inner or outer join of DataF...            2   \n",
       "962   List Highest Correlation Pairs from a Large Co...            4   \n",
       "1343                pandas memory usage when reindexing            2   \n",
       "1373  What is the equivalent to R's match() for pyth...            3   \n",
       "1549  How to speed up Pandas multilevel dataframe sh...            3   \n",
       "1589          pandas dataframe groupby a number of rows            2   \n",
       "\n",
       "      commentcount  favoritecount      quest_name  quest_rep         ans_name  \\\n",
       "1                6            7.0  Jason Strimpel     3301.0  Mike Pennington   \n",
       "216              0            NaN        joelhoro      379.0             HYRY   \n",
       "722              0            NaN     Tom Bennett      574.0             HYRY   \n",
       "932              0            1.0          monkut    22867.0             HYRY   \n",
       "937              0            6.0          zzzeek    41696.0             HYRY   \n",
       "962              0            3.0     Kyle Brandt     8282.0             HYRY   \n",
       "1343             2            NaN    Andrea Zonca     3904.0             HYRY   \n",
       "1373             0            1.0         Solomon      546.0             HYRY   \n",
       "1549             0            NaN          bigbug     7865.0             HYRY   \n",
       "1589             0            1.0          seumas      377.0             HYRY   \n",
       "\n",
       "      ans_rep  \n",
       "1     26995.0  \n",
       "216   54137.0  \n",
       "722   54137.0  \n",
       "932   54137.0  \n",
       "937   54137.0  \n",
       "962   54137.0  \n",
       "1343  54137.0  \n",
       "1373  54137.0  \n",
       "1549  54137.0  \n",
       "1589  54137.0  "
      ]
     },
     "execution_count": 6,
     "metadata": {},
     "output_type": "execute_result"
    }
   ],
   "source": [
    "cond1=(df['score']>=8) &(df['ans_name'].str.startswith('Mike'))\n",
    "cond2=(df['answercount']>=2) &(df['ans_name']=='HYRY')\n",
    "cond3 =cond1 | cond2\n",
    "df.loc[cond3].head(10)"
   ]
  },
  {
   "cell_type": "markdown",
   "metadata": {},
   "source": [
    "+ isin的使用\n",
    "    - 找出 ans_name 是Mike Pennington，Wes McKinney， HYRY 的数据 如下"
   ]
  },
  {
   "cell_type": "code",
   "execution_count": 7,
   "metadata": {
    "ExecuteTime": {
     "end_time": "2019-01-10T07:58:46.901792Z",
     "start_time": "2019-01-10T07:58:46.823792Z"
    }
   },
   "outputs": [
    {
     "data": {
      "text/html": [
       "<div>\n",
       "<style scoped>\n",
       "    .dataframe tbody tr th:only-of-type {\n",
       "        vertical-align: middle;\n",
       "    }\n",
       "\n",
       "    .dataframe tbody tr th {\n",
       "        vertical-align: top;\n",
       "    }\n",
       "\n",
       "    .dataframe thead th {\n",
       "        text-align: right;\n",
       "    }\n",
       "</style>\n",
       "<table border=\"1\" class=\"dataframe\">\n",
       "  <thead>\n",
       "    <tr style=\"text-align: right;\">\n",
       "      <th></th>\n",
       "      <th>id</th>\n",
       "      <th>creationdate</th>\n",
       "      <th>score</th>\n",
       "      <th>viewcount</th>\n",
       "      <th>title</th>\n",
       "      <th>answercount</th>\n",
       "      <th>commentcount</th>\n",
       "      <th>favoritecount</th>\n",
       "      <th>quest_name</th>\n",
       "      <th>quest_rep</th>\n",
       "      <th>ans_name</th>\n",
       "      <th>ans_rep</th>\n",
       "    </tr>\n",
       "  </thead>\n",
       "  <tbody>\n",
       "    <tr>\n",
       "      <th>0</th>\n",
       "      <td>5486226</td>\n",
       "      <td>2011-03-30 12:26:50</td>\n",
       "      <td>4</td>\n",
       "      <td>2113</td>\n",
       "      <td>Rolling median in python</td>\n",
       "      <td>3</td>\n",
       "      <td>4</td>\n",
       "      <td>1.0</td>\n",
       "      <td>yueerhu</td>\n",
       "      <td>125.0</td>\n",
       "      <td>Mike Pennington</td>\n",
       "      <td>26995.0</td>\n",
       "    </tr>\n",
       "    <tr>\n",
       "      <th>1</th>\n",
       "      <td>5515021</td>\n",
       "      <td>2011-04-01 14:50:44</td>\n",
       "      <td>8</td>\n",
       "      <td>7015</td>\n",
       "      <td>Compute a compounded return series in Python</td>\n",
       "      <td>3</td>\n",
       "      <td>6</td>\n",
       "      <td>7.0</td>\n",
       "      <td>Jason Strimpel</td>\n",
       "      <td>3301.0</td>\n",
       "      <td>Mike Pennington</td>\n",
       "      <td>26995.0</td>\n",
       "    </tr>\n",
       "    <tr>\n",
       "      <th>2</th>\n",
       "      <td>5558607</td>\n",
       "      <td>2011-04-05 21:13:50</td>\n",
       "      <td>2</td>\n",
       "      <td>7392</td>\n",
       "      <td>Sort a pandas DataMatrix in ascending order</td>\n",
       "      <td>2</td>\n",
       "      <td>0</td>\n",
       "      <td>1.0</td>\n",
       "      <td>Jason Strimpel</td>\n",
       "      <td>3301.0</td>\n",
       "      <td>Wes McKinney</td>\n",
       "      <td>43310.0</td>\n",
       "    </tr>\n",
       "    <tr>\n",
       "      <th>3</th>\n",
       "      <td>6467832</td>\n",
       "      <td>2011-06-24 12:31:45</td>\n",
       "      <td>9</td>\n",
       "      <td>13056</td>\n",
       "      <td>How to get the correlation between two timeser...</td>\n",
       "      <td>1</td>\n",
       "      <td>0</td>\n",
       "      <td>7.0</td>\n",
       "      <td>user814005</td>\n",
       "      <td>117.0</td>\n",
       "      <td>Wes McKinney</td>\n",
       "      <td>43310.0</td>\n",
       "    </tr>\n",
       "    <tr>\n",
       "      <th>4</th>\n",
       "      <td>7577546</td>\n",
       "      <td>2011-09-28 01:58:38</td>\n",
       "      <td>9</td>\n",
       "      <td>2488</td>\n",
       "      <td>Using pandas, how do I subsample a large DataF...</td>\n",
       "      <td>1</td>\n",
       "      <td>0</td>\n",
       "      <td>5.0</td>\n",
       "      <td>Uri Laserson</td>\n",
       "      <td>958.0</td>\n",
       "      <td>HYRY</td>\n",
       "      <td>54137.0</td>\n",
       "    </tr>\n",
       "  </tbody>\n",
       "</table>\n",
       "</div>"
      ],
      "text/plain": [
       "        id         creationdate  score  viewcount  \\\n",
       "0  5486226  2011-03-30 12:26:50      4       2113   \n",
       "1  5515021  2011-04-01 14:50:44      8       7015   \n",
       "2  5558607  2011-04-05 21:13:50      2       7392   \n",
       "3  6467832  2011-06-24 12:31:45      9      13056   \n",
       "4  7577546  2011-09-28 01:58:38      9       2488   \n",
       "\n",
       "                                               title  answercount  \\\n",
       "0                           Rolling median in python            3   \n",
       "1       Compute a compounded return series in Python            3   \n",
       "2        Sort a pandas DataMatrix in ascending order            2   \n",
       "3  How to get the correlation between two timeser...            1   \n",
       "4  Using pandas, how do I subsample a large DataF...            1   \n",
       "\n",
       "   commentcount  favoritecount      quest_name  quest_rep         ans_name  \\\n",
       "0             4            1.0         yueerhu      125.0  Mike Pennington   \n",
       "1             6            7.0  Jason Strimpel     3301.0  Mike Pennington   \n",
       "2             0            1.0  Jason Strimpel     3301.0     Wes McKinney   \n",
       "3             0            7.0      user814005      117.0     Wes McKinney   \n",
       "4             0            5.0    Uri Laserson      958.0             HYRY   \n",
       "\n",
       "   ans_rep  \n",
       "0  26995.0  \n",
       "1  26995.0  \n",
       "2  43310.0  \n",
       "3  43310.0  \n",
       "4  54137.0  "
      ]
     },
     "execution_count": 7,
     "metadata": {},
     "output_type": "execute_result"
    }
   ],
   "source": [
    "df.loc[df['ans_name'].isin(['Mike Pennington','Wes McKinney','HYRY'])].head()"
   ]
  },
  {
   "cell_type": "markdown",
   "metadata": {},
   "source": [
    " + \n",
    "    - 条件1： ans_name 是Wes McKinney， HYRY 的数据\n",
    "    - 条件2： score=9\n",
    "    - 找出符合条件1并且符合条件2的数据，如下"
   ]
  },
  {
   "cell_type": "code",
   "execution_count": 15,
   "metadata": {
    "ExecuteTime": {
     "end_time": "2019-01-10T08:05:55.605980Z",
     "start_time": "2019-01-10T08:05:55.543577Z"
    }
   },
   "outputs": [
    {
     "data": {
      "text/html": [
       "<div>\n",
       "<style scoped>\n",
       "    .dataframe tbody tr th:only-of-type {\n",
       "        vertical-align: middle;\n",
       "    }\n",
       "\n",
       "    .dataframe tbody tr th {\n",
       "        vertical-align: top;\n",
       "    }\n",
       "\n",
       "    .dataframe thead th {\n",
       "        text-align: right;\n",
       "    }\n",
       "</style>\n",
       "<table border=\"1\" class=\"dataframe\">\n",
       "  <thead>\n",
       "    <tr style=\"text-align: right;\">\n",
       "      <th></th>\n",
       "      <th>id</th>\n",
       "      <th>creationdate</th>\n",
       "      <th>score</th>\n",
       "      <th>viewcount</th>\n",
       "      <th>title</th>\n",
       "      <th>answercount</th>\n",
       "      <th>commentcount</th>\n",
       "      <th>favoritecount</th>\n",
       "      <th>quest_name</th>\n",
       "      <th>quest_rep</th>\n",
       "      <th>ans_name</th>\n",
       "      <th>ans_rep</th>\n",
       "    </tr>\n",
       "  </thead>\n",
       "  <tbody>\n",
       "    <tr>\n",
       "      <th>3</th>\n",
       "      <td>6467832</td>\n",
       "      <td>2011-06-24 12:31:45</td>\n",
       "      <td>9</td>\n",
       "      <td>13056</td>\n",
       "      <td>How to get the correlation between two timeser...</td>\n",
       "      <td>1</td>\n",
       "      <td>0</td>\n",
       "      <td>7.0</td>\n",
       "      <td>user814005</td>\n",
       "      <td>117.0</td>\n",
       "      <td>Wes McKinney</td>\n",
       "      <td>43310.0</td>\n",
       "    </tr>\n",
       "    <tr>\n",
       "      <th>4</th>\n",
       "      <td>7577546</td>\n",
       "      <td>2011-09-28 01:58:38</td>\n",
       "      <td>9</td>\n",
       "      <td>2488</td>\n",
       "      <td>Using pandas, how do I subsample a large DataF...</td>\n",
       "      <td>1</td>\n",
       "      <td>0</td>\n",
       "      <td>5.0</td>\n",
       "      <td>Uri Laserson</td>\n",
       "      <td>958.0</td>\n",
       "      <td>HYRY</td>\n",
       "      <td>54137.0</td>\n",
       "    </tr>\n",
       "    <tr>\n",
       "      <th>140</th>\n",
       "      <td>11037895</td>\n",
       "      <td>2012-06-14 16:58:42</td>\n",
       "      <td>9</td>\n",
       "      <td>1144</td>\n",
       "      <td>How can I generalize my pandas data grouping t...</td>\n",
       "      <td>1</td>\n",
       "      <td>0</td>\n",
       "      <td>4.0</td>\n",
       "      <td>Tim Whitcomb</td>\n",
       "      <td>7432.0</td>\n",
       "      <td>Wes McKinney</td>\n",
       "      <td>43310.0</td>\n",
       "    </tr>\n",
       "    <tr>\n",
       "      <th>457</th>\n",
       "      <td>12950024</td>\n",
       "      <td>2012-10-18 08:14:42</td>\n",
       "      <td>9</td>\n",
       "      <td>1070</td>\n",
       "      <td>Add a column with a groupby on a hierarchical ...</td>\n",
       "      <td>1</td>\n",
       "      <td>2</td>\n",
       "      <td>6.0</td>\n",
       "      <td>Rutger Kassies</td>\n",
       "      <td>21364.0</td>\n",
       "      <td>Wes McKinney</td>\n",
       "      <td>43310.0</td>\n",
       "    </tr>\n",
       "    <tr>\n",
       "      <th>584</th>\n",
       "      <td>13419822</td>\n",
       "      <td>2012-11-16 15:43:15</td>\n",
       "      <td>9</td>\n",
       "      <td>12248</td>\n",
       "      <td>pandas dataframe, copy by value</td>\n",
       "      <td>1</td>\n",
       "      <td>0</td>\n",
       "      <td>4.0</td>\n",
       "      <td>Andrew</td>\n",
       "      <td>248.0</td>\n",
       "      <td>Wes McKinney</td>\n",
       "      <td>43310.0</td>\n",
       "    </tr>\n",
       "  </tbody>\n",
       "</table>\n",
       "</div>"
      ],
      "text/plain": [
       "           id         creationdate  score  viewcount  \\\n",
       "3     6467832  2011-06-24 12:31:45      9      13056   \n",
       "4     7577546  2011-09-28 01:58:38      9       2488   \n",
       "140  11037895  2012-06-14 16:58:42      9       1144   \n",
       "457  12950024  2012-10-18 08:14:42      9       1070   \n",
       "584  13419822  2012-11-16 15:43:15      9      12248   \n",
       "\n",
       "                                                 title  answercount  \\\n",
       "3    How to get the correlation between two timeser...            1   \n",
       "4    Using pandas, how do I subsample a large DataF...            1   \n",
       "140  How can I generalize my pandas data grouping t...            1   \n",
       "457  Add a column with a groupby on a hierarchical ...            1   \n",
       "584                    pandas dataframe, copy by value            1   \n",
       "\n",
       "     commentcount  favoritecount      quest_name  quest_rep      ans_name  \\\n",
       "3               0            7.0      user814005      117.0  Wes McKinney   \n",
       "4               0            5.0    Uri Laserson      958.0          HYRY   \n",
       "140             0            4.0    Tim Whitcomb     7432.0  Wes McKinney   \n",
       "457             2            6.0  Rutger Kassies    21364.0  Wes McKinney   \n",
       "584             0            4.0          Andrew      248.0  Wes McKinney   \n",
       "\n",
       "     ans_rep  \n",
       "3    43310.0  \n",
       "4    54137.0  \n",
       "140  43310.0  \n",
       "457  43310.0  \n",
       "584  43310.0  "
      ]
     },
     "execution_count": 15,
     "metadata": {},
     "output_type": "execute_result"
    }
   ],
   "source": [
    "df.loc[df['ans_name'].isin(['Wes McKinney','HYRY']) & (df['score']==9)].head()"
   ]
  },
  {
   "cell_type": "markdown",
   "metadata": {},
   "source": [
    "+ isnull 的使用\n",
    "    - 找出ans_name 为null的数据 如下"
   ]
  },
  {
   "cell_type": "code",
   "execution_count": 16,
   "metadata": {
    "ExecuteTime": {
     "end_time": "2019-01-10T08:07:03.321774Z",
     "start_time": "2019-01-10T08:07:03.243770Z"
    }
   },
   "outputs": [
    {
     "data": {
      "text/html": [
       "<div>\n",
       "<style scoped>\n",
       "    .dataframe tbody tr th:only-of-type {\n",
       "        vertical-align: middle;\n",
       "    }\n",
       "\n",
       "    .dataframe tbody tr th {\n",
       "        vertical-align: top;\n",
       "    }\n",
       "\n",
       "    .dataframe thead th {\n",
       "        text-align: right;\n",
       "    }\n",
       "</style>\n",
       "<table border=\"1\" class=\"dataframe\">\n",
       "  <thead>\n",
       "    <tr style=\"text-align: right;\">\n",
       "      <th></th>\n",
       "      <th>id</th>\n",
       "      <th>creationdate</th>\n",
       "      <th>score</th>\n",
       "      <th>viewcount</th>\n",
       "      <th>title</th>\n",
       "      <th>answercount</th>\n",
       "      <th>commentcount</th>\n",
       "      <th>favoritecount</th>\n",
       "      <th>quest_name</th>\n",
       "      <th>quest_rep</th>\n",
       "      <th>ans_name</th>\n",
       "      <th>ans_rep</th>\n",
       "    </tr>\n",
       "  </thead>\n",
       "  <tbody>\n",
       "    <tr>\n",
       "      <th>5</th>\n",
       "      <td>7766400</td>\n",
       "      <td>2011-10-14 10:33:54</td>\n",
       "      <td>2</td>\n",
       "      <td>977</td>\n",
       "      <td>Pandas + Django + mod_wsgi + virtualenv</td>\n",
       "      <td>1</td>\n",
       "      <td>2</td>\n",
       "      <td>1.0</td>\n",
       "      <td>Evan Davey</td>\n",
       "      <td>100.0</td>\n",
       "      <td>NaN</td>\n",
       "      <td>NaN</td>\n",
       "    </tr>\n",
       "    <tr>\n",
       "      <th>11</th>\n",
       "      <td>8451327</td>\n",
       "      <td>2011-12-09 20:27:24</td>\n",
       "      <td>1</td>\n",
       "      <td>2435</td>\n",
       "      <td>Python map() function output into Pandas DataF...</td>\n",
       "      <td>1</td>\n",
       "      <td>0</td>\n",
       "      <td>1.0</td>\n",
       "      <td>briant57</td>\n",
       "      <td>6.0</td>\n",
       "      <td>NaN</td>\n",
       "      <td>NaN</td>\n",
       "    </tr>\n",
       "    <tr>\n",
       "      <th>16</th>\n",
       "      <td>8966871</td>\n",
       "      <td>2012-01-23 03:21:00</td>\n",
       "      <td>0</td>\n",
       "      <td>287</td>\n",
       "      <td>Running Python/Numpy/Pandas on older secure co...</td>\n",
       "      <td>0</td>\n",
       "      <td>3</td>\n",
       "      <td>NaN</td>\n",
       "      <td>Casey</td>\n",
       "      <td>16.0</td>\n",
       "      <td>NaN</td>\n",
       "      <td>NaN</td>\n",
       "    </tr>\n",
       "    <tr>\n",
       "      <th>29</th>\n",
       "      <td>9641916</td>\n",
       "      <td>2012-03-09 22:36:52</td>\n",
       "      <td>7</td>\n",
       "      <td>5519</td>\n",
       "      <td>Python Pandas: can't find numpy.core.multiarra...</td>\n",
       "      <td>4</td>\n",
       "      <td>2</td>\n",
       "      <td>NaN</td>\n",
       "      <td>Dylan Cutler</td>\n",
       "      <td>41.0</td>\n",
       "      <td>NaN</td>\n",
       "      <td>NaN</td>\n",
       "    </tr>\n",
       "    <tr>\n",
       "      <th>30</th>\n",
       "      <td>9647656</td>\n",
       "      <td>2012-03-10 15:35:26</td>\n",
       "      <td>3</td>\n",
       "      <td>986</td>\n",
       "      <td>Pandas dataframe in mixed mode can't serialize...</td>\n",
       "      <td>1</td>\n",
       "      <td>0</td>\n",
       "      <td>NaN</td>\n",
       "      <td>David van Coevorden</td>\n",
       "      <td>45.0</td>\n",
       "      <td>NaN</td>\n",
       "      <td>NaN</td>\n",
       "    </tr>\n",
       "  </tbody>\n",
       "</table>\n",
       "</div>"
      ],
      "text/plain": [
       "         id         creationdate  score  viewcount  \\\n",
       "5   7766400  2011-10-14 10:33:54      2        977   \n",
       "11  8451327  2011-12-09 20:27:24      1       2435   \n",
       "16  8966871  2012-01-23 03:21:00      0        287   \n",
       "29  9641916  2012-03-09 22:36:52      7       5519   \n",
       "30  9647656  2012-03-10 15:35:26      3        986   \n",
       "\n",
       "                                                title  answercount  \\\n",
       "5             Pandas + Django + mod_wsgi + virtualenv            1   \n",
       "11  Python map() function output into Pandas DataF...            1   \n",
       "16  Running Python/Numpy/Pandas on older secure co...            0   \n",
       "29  Python Pandas: can't find numpy.core.multiarra...            4   \n",
       "30  Pandas dataframe in mixed mode can't serialize...            1   \n",
       "\n",
       "    commentcount  favoritecount           quest_name  quest_rep ans_name  \\\n",
       "5              2            1.0           Evan Davey      100.0      NaN   \n",
       "11             0            1.0             briant57        6.0      NaN   \n",
       "16             3            NaN                Casey       16.0      NaN   \n",
       "29             2            NaN         Dylan Cutler       41.0      NaN   \n",
       "30             0            NaN  David van Coevorden       45.0      NaN   \n",
       "\n",
       "    ans_rep  \n",
       "5       NaN  \n",
       "11      NaN  \n",
       "16      NaN  \n",
       "29      NaN  \n",
       "30      NaN  "
      ]
     },
     "execution_count": 16,
     "metadata": {},
     "output_type": "execute_result"
    }
   ],
   "source": [
    "df.loc[df.ans_name.isnull()].head()"
   ]
  },
  {
   "cell_type": "markdown",
   "metadata": {},
   "source": [
    "**说明：isnull和isna 方法等同，isna是isnull的别名**\n",
    "## boolean条件选择在Series中的应用"
   ]
  },
  {
   "cell_type": "code",
   "execution_count": 17,
   "metadata": {
    "ExecuteTime": {
     "end_time": "2019-01-10T08:09:19.228853Z",
     "start_time": "2019-01-10T08:09:19.226853Z"
    }
   },
   "outputs": [
    {
     "data": {
      "text/plain": [
       "0    4\n",
       "1    6\n",
       "2    0\n",
       "3    0\n",
       "4    0\n",
       "Name: commentcount, dtype: int64"
      ]
     },
     "execution_count": 17,
     "metadata": {},
     "output_type": "execute_result"
    }
   ],
   "source": [
    "ss=df['commentcount']\n",
    "ss.head()"
   ]
  },
  {
   "cell_type": "markdown",
   "metadata": {},
   "source": [
    "+ 找出commentcount>10的数据 如下"
   ]
  },
  {
   "cell_type": "code",
   "execution_count": 19,
   "metadata": {
    "ExecuteTime": {
     "end_time": "2019-01-10T08:09:56.141036Z",
     "start_time": "2019-01-10T08:09:56.094233Z"
    }
   },
   "outputs": [
    {
     "data": {
      "text/plain": [
       "0    False\n",
       "1    False\n",
       "2    False\n",
       "3    False\n",
       "4    False\n",
       "Name: commentcount, dtype: bool"
      ]
     },
     "execution_count": 19,
     "metadata": {},
     "output_type": "execute_result"
    }
   ],
   "source": [
    "cond=ss>10\n",
    "cond.head()"
   ]
  },
  {
   "cell_type": "code",
   "execution_count": 20,
   "metadata": {
    "ExecuteTime": {
     "end_time": "2019-01-10T08:10:10.507511Z",
     "start_time": "2019-01-10T08:10:10.459708Z"
    }
   },
   "outputs": [
    {
     "data": {
      "text/plain": [
       "17     16\n",
       "76     14\n",
       "566    11\n",
       "763    12\n",
       "781    19\n",
       "Name: commentcount, dtype: int64"
      ]
     },
     "execution_count": 20,
     "metadata": {},
     "output_type": "execute_result"
    }
   ],
   "source": [
    "ss[cond].head()"
   ]
  },
  {
   "cell_type": "code",
   "execution_count": 21,
   "metadata": {
    "ExecuteTime": {
     "end_time": "2019-01-10T08:11:38.013787Z",
     "start_time": "2019-01-10T08:11:37.982586Z"
    }
   },
   "outputs": [
    {
     "data": {
      "text/plain": [
       "17     16\n",
       "76     14\n",
       "566    11\n",
       "763    12\n",
       "781    19\n",
       "Name: commentcount, dtype: int64"
      ]
     },
     "execution_count": 21,
     "metadata": {},
     "output_type": "execute_result"
    }
   ],
   "source": [
    "ss.loc[cond].head()"
   ]
  },
  {
   "cell_type": "code",
   "execution_count": 22,
   "metadata": {
    "ExecuteTime": {
     "end_time": "2019-01-10T08:11:58.822528Z",
     "start_time": "2019-01-10T08:11:58.775727Z"
    }
   },
   "outputs": [
    {
     "data": {
      "text/plain": [
       "17     16\n",
       "76     14\n",
       "566    11\n",
       "763    12\n",
       "781    19\n",
       "Name: commentcount, dtype: int64"
      ]
     },
     "execution_count": 22,
     "metadata": {},
     "output_type": "execute_result"
    }
   ],
   "source": [
    "ss.loc[ss>10].head()"
   ]
  },
  {
   "cell_type": "markdown",
   "metadata": {},
   "source": [
    "+ 找出 commentcount>10 并且 <15的数据 如下"
   ]
  },
  {
   "cell_type": "code",
   "execution_count": 23,
   "metadata": {
    "ExecuteTime": {
     "end_time": "2019-01-10T08:14:24.891062Z",
     "start_time": "2019-01-10T08:14:24.844261Z"
    }
   },
   "outputs": [
    {
     "data": {
      "text/plain": [
       "76     14\n",
       "566    11\n",
       "763    12\n",
       "787    12\n",
       "837    13\n",
       "Name: commentcount, dtype: int64"
      ]
     },
     "execution_count": 23,
     "metadata": {},
     "output_type": "execute_result"
    }
   ],
   "source": [
    "ss.loc[(ss>10)&(ss<15)].head()"
   ]
  },
  {
   "cell_type": "markdown",
   "metadata": {},
   "source": [
    "+ between 的使用"
   ]
  },
  {
   "cell_type": "code",
   "execution_count": 24,
   "metadata": {
    "ExecuteTime": {
     "end_time": "2019-01-10T08:15:27.681974Z",
     "start_time": "2019-01-10T08:15:27.635173Z"
    }
   },
   "outputs": [
    {
     "data": {
      "text/plain": [
       "76     14\n",
       "566    11\n",
       "763    12\n",
       "764    10\n",
       "787    12\n",
       "Name: commentcount, dtype: int64"
      ]
     },
     "execution_count": 24,
     "metadata": {},
     "output_type": "execute_result"
    }
   ],
   "source": [
    "ss.loc[ss.between(10,15)].head()"
   ]
  },
  {
   "cell_type": "markdown",
   "metadata": {},
   "source": [
    "## 条件筛选（选择行列）\n",
    "+ 找出 viewcount>15000 的这'creationdate', 'viewcount', 'ans_name'列数据 如下"
   ]
  },
  {
   "cell_type": "code",
   "execution_count": 25,
   "metadata": {
    "ExecuteTime": {
     "end_time": "2019-01-10T08:29:29.630265Z",
     "start_time": "2019-01-10T08:29:29.583465Z"
    }
   },
   "outputs": [
    {
     "data": {
      "text/html": [
       "<div>\n",
       "<style scoped>\n",
       "    .dataframe tbody tr th:only-of-type {\n",
       "        vertical-align: middle;\n",
       "    }\n",
       "\n",
       "    .dataframe tbody tr th {\n",
       "        vertical-align: top;\n",
       "    }\n",
       "\n",
       "    .dataframe thead th {\n",
       "        text-align: right;\n",
       "    }\n",
       "</style>\n",
       "<table border=\"1\" class=\"dataframe\">\n",
       "  <thead>\n",
       "    <tr style=\"text-align: right;\">\n",
       "      <th></th>\n",
       "      <th>creationdate</th>\n",
       "      <th>viewcount</th>\n",
       "      <th>ans_name</th>\n",
       "    </tr>\n",
       "  </thead>\n",
       "  <tbody>\n",
       "    <tr>\n",
       "      <th>6</th>\n",
       "      <td>2011-10-15 08:21:17</td>\n",
       "      <td>28159</td>\n",
       "      <td>Wes McKinney</td>\n",
       "    </tr>\n",
       "    <tr>\n",
       "      <th>7</th>\n",
       "      <td>2011-10-18 20:16:12</td>\n",
       "      <td>18917</td>\n",
       "      <td>Wes McKinney</td>\n",
       "    </tr>\n",
       "    <tr>\n",
       "      <th>8</th>\n",
       "      <td>2011-10-20 14:46:14</td>\n",
       "      <td>223746</td>\n",
       "      <td>Nick Crawford</td>\n",
       "    </tr>\n",
       "    <tr>\n",
       "      <th>14</th>\n",
       "      <td>2012-01-18 19:41:27</td>\n",
       "      <td>20614</td>\n",
       "      <td>Wes McKinney</td>\n",
       "    </tr>\n",
       "    <tr>\n",
       "      <th>17</th>\n",
       "      <td>2012-01-24 17:59:53</td>\n",
       "      <td>16783</td>\n",
       "      <td>Matt Dowle</td>\n",
       "    </tr>\n",
       "  </tbody>\n",
       "</table>\n",
       "</div>"
      ],
      "text/plain": [
       "           creationdate  viewcount       ans_name\n",
       "6   2011-10-15 08:21:17      28159   Wes McKinney\n",
       "7   2011-10-18 20:16:12      18917   Wes McKinney\n",
       "8   2011-10-20 14:46:14     223746  Nick Crawford\n",
       "14  2012-01-18 19:41:27      20614   Wes McKinney\n",
       "17  2012-01-24 17:59:53      16783     Matt Dowle"
      ]
     },
     "execution_count": 25,
     "metadata": {},
     "output_type": "execute_result"
    }
   ],
   "source": [
    "df.loc[df.viewcount>15000,['creationdate', 'viewcount', 'ans_name']].head()"
   ]
  },
  {
   "cell_type": "markdown",
   "metadata": {},
   "source": [
    "+ 找出favoritecount 在20-50之间，并且返回隔行数据 如下"
   ]
  },
  {
   "cell_type": "code",
   "execution_count": 26,
   "metadata": {
    "ExecuteTime": {
     "end_time": "2019-01-10T08:32:51.861265Z",
     "start_time": "2019-01-10T08:32:51.814465Z"
    }
   },
   "outputs": [
    {
     "data": {
      "text/html": [
       "<div>\n",
       "<style scoped>\n",
       "    .dataframe tbody tr th:only-of-type {\n",
       "        vertical-align: middle;\n",
       "    }\n",
       "\n",
       "    .dataframe tbody tr th {\n",
       "        vertical-align: top;\n",
       "    }\n",
       "\n",
       "    .dataframe thead th {\n",
       "        text-align: right;\n",
       "    }\n",
       "</style>\n",
       "<table border=\"1\" class=\"dataframe\">\n",
       "  <thead>\n",
       "    <tr style=\"text-align: right;\">\n",
       "      <th></th>\n",
       "      <th>id</th>\n",
       "      <th>score</th>\n",
       "      <th>title</th>\n",
       "      <th>commentcount</th>\n",
       "      <th>quest_name</th>\n",
       "      <th>ans_name</th>\n",
       "    </tr>\n",
       "  </thead>\n",
       "  <tbody>\n",
       "    <tr>\n",
       "      <th>866</th>\n",
       "      <td>14444916</td>\n",
       "      <td>1</td>\n",
       "      <td>Pandas obtain share from DataFrame</td>\n",
       "      <td>0</td>\n",
       "      <td>Manuel Zompetta</td>\n",
       "      <td>Zelazny7</td>\n",
       "    </tr>\n",
       "    <tr>\n",
       "      <th>981</th>\n",
       "      <td>18280947</td>\n",
       "      <td>1</td>\n",
       "      <td>How to do multiple column conversions on a Pan...</td>\n",
       "      <td>1</td>\n",
       "      <td>dartdog</td>\n",
       "      <td>Jeff</td>\n",
       "    </tr>\n",
       "    <tr>\n",
       "      <th>1049</th>\n",
       "      <td>17233635</td>\n",
       "      <td>1</td>\n",
       "      <td>Joining 2 dataframes on a specific column with...</td>\n",
       "      <td>0</td>\n",
       "      <td>user7289</td>\n",
       "      <td>waitingkuo</td>\n",
       "    </tr>\n",
       "    <tr>\n",
       "      <th>1086</th>\n",
       "      <td>15006145</td>\n",
       "      <td>-1</td>\n",
       "      <td>Is it possible to have a data frame in which c...</td>\n",
       "      <td>2</td>\n",
       "      <td>Roman</td>\n",
       "      <td>NaN</td>\n",
       "    </tr>\n",
       "    <tr>\n",
       "      <th>1332</th>\n",
       "      <td>16303918</td>\n",
       "      <td>0</td>\n",
       "      <td>How to perform key-restricted broadcast-operat...</td>\n",
       "      <td>0</td>\n",
       "      <td>kjo</td>\n",
       "      <td>Wouter Overmeire</td>\n",
       "    </tr>\n",
       "  </tbody>\n",
       "</table>\n",
       "</div>"
      ],
      "text/plain": [
       "            id  score                                              title  \\\n",
       "866   14444916      1                 Pandas obtain share from DataFrame   \n",
       "981   18280947      1  How to do multiple column conversions on a Pan...   \n",
       "1049  17233635      1  Joining 2 dataframes on a specific column with...   \n",
       "1086  15006145     -1  Is it possible to have a data frame in which c...   \n",
       "1332  16303918      0  How to perform key-restricted broadcast-operat...   \n",
       "\n",
       "      commentcount       quest_name          ans_name  \n",
       "866              0  Manuel Zompetta          Zelazny7  \n",
       "981              1          dartdog              Jeff  \n",
       "1049             0         user7289        waitingkuo  \n",
       "1086             2            Roman               NaN  \n",
       "1332             0              kjo  Wouter Overmeire  "
      ]
     },
     "execution_count": 26,
     "metadata": {},
     "output_type": "execute_result"
    }
   ],
   "source": [
    "df.loc[df.viewcount.between(20,50),::2].head()"
   ]
  },
  {
   "cell_type": "markdown",
   "metadata": {},
   "source": [
    "## 条件选择列"
   ]
  },
  {
   "cell_type": "code",
   "execution_count": 28,
   "metadata": {
    "ExecuteTime": {
     "end_time": "2019-01-10T08:35:37.468065Z",
     "start_time": "2019-01-10T08:35:37.421265Z"
    }
   },
   "outputs": [
    {
     "data": {
      "text/plain": [
       "(56398, 12)"
      ]
     },
     "execution_count": 28,
     "metadata": {},
     "output_type": "execute_result"
    }
   ],
   "source": [
    "df.shape"
   ]
  },
  {
   "cell_type": "markdown",
   "metadata": {},
   "source": [
    "+ 列表条件： 共12列 ，隔列选择"
   ]
  },
  {
   "cell_type": "code",
   "execution_count": 29,
   "metadata": {
    "ExecuteTime": {
     "end_time": "2019-01-10T08:37:06.618265Z",
     "start_time": "2019-01-10T08:37:06.587065Z"
    }
   },
   "outputs": [
    {
     "data": {
      "text/plain": [
       "[True, False, True, False, True, False, True, False, True, False, True, False]"
      ]
     },
     "execution_count": 29,
     "metadata": {},
     "output_type": "execute_result"
    }
   ],
   "source": [
    "co=[True,False]*6\n",
    "co"
   ]
  },
  {
   "cell_type": "code",
   "execution_count": 30,
   "metadata": {
    "ExecuteTime": {
     "end_time": "2019-01-10T08:37:23.822265Z",
     "start_time": "2019-01-10T08:37:23.759865Z"
    }
   },
   "outputs": [
    {
     "data": {
      "text/html": [
       "<div>\n",
       "<style scoped>\n",
       "    .dataframe tbody tr th:only-of-type {\n",
       "        vertical-align: middle;\n",
       "    }\n",
       "\n",
       "    .dataframe tbody tr th {\n",
       "        vertical-align: top;\n",
       "    }\n",
       "\n",
       "    .dataframe thead th {\n",
       "        text-align: right;\n",
       "    }\n",
       "</style>\n",
       "<table border=\"1\" class=\"dataframe\">\n",
       "  <thead>\n",
       "    <tr style=\"text-align: right;\">\n",
       "      <th></th>\n",
       "      <th>id</th>\n",
       "      <th>score</th>\n",
       "      <th>title</th>\n",
       "      <th>commentcount</th>\n",
       "      <th>quest_name</th>\n",
       "      <th>ans_name</th>\n",
       "    </tr>\n",
       "  </thead>\n",
       "  <tbody>\n",
       "    <tr>\n",
       "      <th>0</th>\n",
       "      <td>5486226</td>\n",
       "      <td>4</td>\n",
       "      <td>Rolling median in python</td>\n",
       "      <td>4</td>\n",
       "      <td>yueerhu</td>\n",
       "      <td>Mike Pennington</td>\n",
       "    </tr>\n",
       "    <tr>\n",
       "      <th>1</th>\n",
       "      <td>5515021</td>\n",
       "      <td>8</td>\n",
       "      <td>Compute a compounded return series in Python</td>\n",
       "      <td>6</td>\n",
       "      <td>Jason Strimpel</td>\n",
       "      <td>Mike Pennington</td>\n",
       "    </tr>\n",
       "    <tr>\n",
       "      <th>2</th>\n",
       "      <td>5558607</td>\n",
       "      <td>2</td>\n",
       "      <td>Sort a pandas DataMatrix in ascending order</td>\n",
       "      <td>0</td>\n",
       "      <td>Jason Strimpel</td>\n",
       "      <td>Wes McKinney</td>\n",
       "    </tr>\n",
       "    <tr>\n",
       "      <th>3</th>\n",
       "      <td>6467832</td>\n",
       "      <td>9</td>\n",
       "      <td>How to get the correlation between two timeser...</td>\n",
       "      <td>0</td>\n",
       "      <td>user814005</td>\n",
       "      <td>Wes McKinney</td>\n",
       "    </tr>\n",
       "    <tr>\n",
       "      <th>4</th>\n",
       "      <td>7577546</td>\n",
       "      <td>9</td>\n",
       "      <td>Using pandas, how do I subsample a large DataF...</td>\n",
       "      <td>0</td>\n",
       "      <td>Uri Laserson</td>\n",
       "      <td>HYRY</td>\n",
       "    </tr>\n",
       "  </tbody>\n",
       "</table>\n",
       "</div>"
      ],
      "text/plain": [
       "        id  score                                              title  \\\n",
       "0  5486226      4                           Rolling median in python   \n",
       "1  5515021      8       Compute a compounded return series in Python   \n",
       "2  5558607      2        Sort a pandas DataMatrix in ascending order   \n",
       "3  6467832      9  How to get the correlation between two timeser...   \n",
       "4  7577546      9  Using pandas, how do I subsample a large DataF...   \n",
       "\n",
       "   commentcount      quest_name         ans_name  \n",
       "0             4         yueerhu  Mike Pennington  \n",
       "1             6  Jason Strimpel  Mike Pennington  \n",
       "2             0  Jason Strimpel     Wes McKinney  \n",
       "3             0      user814005     Wes McKinney  \n",
       "4             0    Uri Laserson             HYRY  "
      ]
     },
     "execution_count": 30,
     "metadata": {},
     "output_type": "execute_result"
    }
   ],
   "source": [
    "df.loc[:,co].head()"
   ]
  },
  {
   "cell_type": "markdown",
   "metadata": {},
   "source": [
    "+ 字典条件"
   ]
  },
  {
   "cell_type": "code",
   "execution_count": 32,
   "metadata": {
    "ExecuteTime": {
     "end_time": "2019-01-10T08:39:14.463865Z",
     "start_time": "2019-01-10T08:39:14.432665Z"
    }
   },
   "outputs": [],
   "source": [
    "col={'score':True,'commentcount':True}"
   ]
  },
  {
   "cell_type": "code",
   "execution_count": 33,
   "metadata": {
    "ExecuteTime": {
     "end_time": "2019-01-10T08:39:17.550065Z",
     "start_time": "2019-01-10T08:39:17.503265Z"
    }
   },
   "outputs": [
    {
     "data": {
      "text/html": [
       "<div>\n",
       "<style scoped>\n",
       "    .dataframe tbody tr th:only-of-type {\n",
       "        vertical-align: middle;\n",
       "    }\n",
       "\n",
       "    .dataframe tbody tr th {\n",
       "        vertical-align: top;\n",
       "    }\n",
       "\n",
       "    .dataframe thead th {\n",
       "        text-align: right;\n",
       "    }\n",
       "</style>\n",
       "<table border=\"1\" class=\"dataframe\">\n",
       "  <thead>\n",
       "    <tr style=\"text-align: right;\">\n",
       "      <th></th>\n",
       "      <th>score</th>\n",
       "      <th>commentcount</th>\n",
       "    </tr>\n",
       "  </thead>\n",
       "  <tbody>\n",
       "    <tr>\n",
       "      <th>0</th>\n",
       "      <td>4</td>\n",
       "      <td>4</td>\n",
       "    </tr>\n",
       "    <tr>\n",
       "      <th>1</th>\n",
       "      <td>8</td>\n",
       "      <td>6</td>\n",
       "    </tr>\n",
       "    <tr>\n",
       "      <th>2</th>\n",
       "      <td>2</td>\n",
       "      <td>0</td>\n",
       "    </tr>\n",
       "    <tr>\n",
       "      <th>3</th>\n",
       "      <td>9</td>\n",
       "      <td>0</td>\n",
       "    </tr>\n",
       "    <tr>\n",
       "      <th>4</th>\n",
       "      <td>9</td>\n",
       "      <td>0</td>\n",
       "    </tr>\n",
       "  </tbody>\n",
       "</table>\n",
       "</div>"
      ],
      "text/plain": [
       "   score  commentcount\n",
       "0      4             4\n",
       "1      8             6\n",
       "2      2             0\n",
       "3      9             0\n",
       "4      9             0"
      ]
     },
     "execution_count": 33,
     "metadata": {},
     "output_type": "execute_result"
    }
   ],
   "source": [
    "df.loc[:,col].head()"
   ]
  },
  {
   "cell_type": "markdown",
   "metadata": {},
   "source": [
    "+ 选择出viewcount>10000，隔列显示"
   ]
  },
  {
   "cell_type": "code",
   "execution_count": 34,
   "metadata": {
    "ExecuteTime": {
     "end_time": "2019-01-10T08:43:46.919865Z",
     "start_time": "2019-01-10T08:43:46.873065Z"
    }
   },
   "outputs": [
    {
     "data": {
      "text/html": [
       "<div>\n",
       "<style scoped>\n",
       "    .dataframe tbody tr th:only-of-type {\n",
       "        vertical-align: middle;\n",
       "    }\n",
       "\n",
       "    .dataframe tbody tr th {\n",
       "        vertical-align: top;\n",
       "    }\n",
       "\n",
       "    .dataframe thead th {\n",
       "        text-align: right;\n",
       "    }\n",
       "</style>\n",
       "<table border=\"1\" class=\"dataframe\">\n",
       "  <thead>\n",
       "    <tr style=\"text-align: right;\">\n",
       "      <th></th>\n",
       "      <th>id</th>\n",
       "      <th>score</th>\n",
       "      <th>title</th>\n",
       "      <th>commentcount</th>\n",
       "      <th>quest_name</th>\n",
       "      <th>ans_name</th>\n",
       "    </tr>\n",
       "  </thead>\n",
       "  <tbody>\n",
       "    <tr>\n",
       "      <th>3</th>\n",
       "      <td>6467832</td>\n",
       "      <td>9</td>\n",
       "      <td>How to get the correlation between two timeser...</td>\n",
       "      <td>0</td>\n",
       "      <td>user814005</td>\n",
       "      <td>Wes McKinney</td>\n",
       "    </tr>\n",
       "    <tr>\n",
       "      <th>6</th>\n",
       "      <td>7776679</td>\n",
       "      <td>25</td>\n",
       "      <td>append two data frame with pandas</td>\n",
       "      <td>7</td>\n",
       "      <td>Jean-Pat</td>\n",
       "      <td>Wes McKinney</td>\n",
       "    </tr>\n",
       "    <tr>\n",
       "      <th>7</th>\n",
       "      <td>7813132</td>\n",
       "      <td>10</td>\n",
       "      <td>Convert array of string (category) to array of...</td>\n",
       "      <td>0</td>\n",
       "      <td>Jean-Pat</td>\n",
       "      <td>Wes McKinney</td>\n",
       "    </tr>\n",
       "    <tr>\n",
       "      <th>8</th>\n",
       "      <td>7837722</td>\n",
       "      <td>201</td>\n",
       "      <td>What is the most efficient way to loop through...</td>\n",
       "      <td>3</td>\n",
       "      <td>Muppet</td>\n",
       "      <td>Nick Crawford</td>\n",
       "    </tr>\n",
       "    <tr>\n",
       "      <th>14</th>\n",
       "      <td>8916302</td>\n",
       "      <td>29</td>\n",
       "      <td>selecting across multiple columns with python ...</td>\n",
       "      <td>0</td>\n",
       "      <td>user248237dfsf</td>\n",
       "      <td>Wes McKinney</td>\n",
       "    </tr>\n",
       "  </tbody>\n",
       "</table>\n",
       "</div>"
      ],
      "text/plain": [
       "         id  score                                              title  \\\n",
       "3   6467832      9  How to get the correlation between two timeser...   \n",
       "6   7776679     25                  append two data frame with pandas   \n",
       "7   7813132     10  Convert array of string (category) to array of...   \n",
       "8   7837722    201  What is the most efficient way to loop through...   \n",
       "14  8916302     29  selecting across multiple columns with python ...   \n",
       "\n",
       "    commentcount      quest_name       ans_name  \n",
       "3              0      user814005   Wes McKinney  \n",
       "6              7        Jean-Pat   Wes McKinney  \n",
       "7              0        Jean-Pat   Wes McKinney  \n",
       "8              3          Muppet  Nick Crawford  \n",
       "14             0  user248237dfsf   Wes McKinney  "
      ]
     },
     "execution_count": 34,
     "metadata": {},
     "output_type": "execute_result"
    }
   ],
   "source": [
    "df.loc[df.viewcount>10000,co].head()"
   ]
  },
  {
   "cell_type": "markdown",
   "metadata": {
    "ExecuteTime": {
     "end_time": "2019-01-10T08:50:23.602265Z",
     "start_time": "2019-01-10T08:50:23.571065Z"
    }
   },
   "source": [
    "+ 选择都是int64类型的所有列的数据"
   ]
  },
  {
   "cell_type": "code",
   "execution_count": 65,
   "metadata": {
    "ExecuteTime": {
     "end_time": "2019-01-10T09:03:07.495865Z",
     "start_time": "2019-01-10T09:03:07.488865Z"
    }
   },
   "outputs": [
    {
     "data": {
      "text/html": [
       "<div>\n",
       "<style scoped>\n",
       "    .dataframe tbody tr th:only-of-type {\n",
       "        vertical-align: middle;\n",
       "    }\n",
       "\n",
       "    .dataframe tbody tr th {\n",
       "        vertical-align: top;\n",
       "    }\n",
       "\n",
       "    .dataframe thead th {\n",
       "        text-align: right;\n",
       "    }\n",
       "</style>\n",
       "<table border=\"1\" class=\"dataframe\">\n",
       "  <thead>\n",
       "    <tr style=\"text-align: right;\">\n",
       "      <th></th>\n",
       "      <th>id</th>\n",
       "      <th>score</th>\n",
       "      <th>viewcount</th>\n",
       "      <th>answercount</th>\n",
       "      <th>commentcount</th>\n",
       "    </tr>\n",
       "  </thead>\n",
       "  <tbody>\n",
       "    <tr>\n",
       "      <th>0</th>\n",
       "      <td>5486226</td>\n",
       "      <td>4</td>\n",
       "      <td>2113</td>\n",
       "      <td>3</td>\n",
       "      <td>4</td>\n",
       "    </tr>\n",
       "    <tr>\n",
       "      <th>1</th>\n",
       "      <td>5515021</td>\n",
       "      <td>8</td>\n",
       "      <td>7015</td>\n",
       "      <td>3</td>\n",
       "      <td>6</td>\n",
       "    </tr>\n",
       "    <tr>\n",
       "      <th>2</th>\n",
       "      <td>5558607</td>\n",
       "      <td>2</td>\n",
       "      <td>7392</td>\n",
       "      <td>2</td>\n",
       "      <td>0</td>\n",
       "    </tr>\n",
       "    <tr>\n",
       "      <th>3</th>\n",
       "      <td>6467832</td>\n",
       "      <td>9</td>\n",
       "      <td>13056</td>\n",
       "      <td>1</td>\n",
       "      <td>0</td>\n",
       "    </tr>\n",
       "    <tr>\n",
       "      <th>4</th>\n",
       "      <td>7577546</td>\n",
       "      <td>9</td>\n",
       "      <td>2488</td>\n",
       "      <td>1</td>\n",
       "      <td>0</td>\n",
       "    </tr>\n",
       "  </tbody>\n",
       "</table>\n",
       "</div>"
      ],
      "text/plain": [
       "        id  score  viewcount  answercount  commentcount\n",
       "0  5486226      4       2113            3             4\n",
       "1  5515021      8       7015            3             6\n",
       "2  5558607      2       7392            2             0\n",
       "3  6467832      9      13056            1             0\n",
       "4  7577546      9       2488            1             0"
      ]
     },
     "execution_count": 65,
     "metadata": {},
     "output_type": "execute_result"
    }
   ],
   "source": [
    "df.loc[:,df.dtypes == 'int64'].head()"
   ]
  },
  {
   "cell_type": "code",
   "execution_count": 66,
   "metadata": {
    "ExecuteTime": {
     "end_time": "2019-01-10T09:03:24.211265Z",
     "start_time": "2019-01-10T09:03:24.164465Z"
    }
   },
   "outputs": [
    {
     "data": {
      "text/plain": [
       "id                 int64\n",
       "creationdate      object\n",
       "score              int64\n",
       "viewcount          int64\n",
       "title             object\n",
       "answercount        int64\n",
       "commentcount       int64\n",
       "favoritecount    float64\n",
       "quest_name        object\n",
       "quest_rep        float64\n",
       "ans_name          object\n",
       "ans_rep          float64\n",
       "dtype: object"
      ]
     },
     "execution_count": 66,
     "metadata": {},
     "output_type": "execute_result"
    }
   ],
   "source": [
    "df.dtypes"
   ]
  },
  {
   "cell_type": "code",
   "execution_count": null,
   "metadata": {},
   "outputs": [],
   "source": []
  },
  {
   "cell_type": "code",
   "execution_count": null,
   "metadata": {},
   "outputs": [],
   "source": []
  },
  {
   "cell_type": "code",
   "execution_count": null,
   "metadata": {},
   "outputs": [],
   "source": []
  },
  {
   "cell_type": "code",
   "execution_count": null,
   "metadata": {},
   "outputs": [],
   "source": []
  },
  {
   "cell_type": "code",
   "execution_count": null,
   "metadata": {},
   "outputs": [],
   "source": []
  },
  {
   "cell_type": "code",
   "execution_count": null,
   "metadata": {},
   "outputs": [],
   "source": []
  },
  {
   "cell_type": "code",
   "execution_count": null,
   "metadata": {},
   "outputs": [],
   "source": []
  },
  {
   "cell_type": "code",
   "execution_count": null,
   "metadata": {},
   "outputs": [],
   "source": []
  },
  {
   "cell_type": "code",
   "execution_count": null,
   "metadata": {},
   "outputs": [],
   "source": []
  },
  {
   "cell_type": "code",
   "execution_count": null,
   "metadata": {},
   "outputs": [],
   "source": []
  },
  {
   "cell_type": "code",
   "execution_count": null,
   "metadata": {},
   "outputs": [],
   "source": []
  },
  {
   "cell_type": "code",
   "execution_count": null,
   "metadata": {},
   "outputs": [],
   "source": []
  },
  {
   "cell_type": "code",
   "execution_count": null,
   "metadata": {},
   "outputs": [],
   "source": []
  },
  {
   "cell_type": "code",
   "execution_count": null,
   "metadata": {},
   "outputs": [],
   "source": []
  }
 ],
 "metadata": {
  "kernelspec": {
   "display_name": "Python 3",
   "language": "python",
   "name": "python3"
  },
  "language_info": {
   "codemirror_mode": {
    "name": "ipython",
    "version": 3
   },
   "file_extension": ".py",
   "mimetype": "text/x-python",
   "name": "python",
   "nbconvert_exporter": "python",
   "pygments_lexer": "ipython3",
   "version": "3.7.0"
  },
  "toc": {
   "base_numbering": 1,
   "nav_menu": {},
   "number_sections": true,
   "sideBar": true,
   "skip_h1_title": false,
   "title_cell": "Table of Contents",
   "title_sidebar": "Contents",
   "toc_cell": false,
   "toc_position": {},
   "toc_section_display": true,
   "toc_window_display": false
  }
 },
 "nbformat": 4,
 "nbformat_minor": 2
}
